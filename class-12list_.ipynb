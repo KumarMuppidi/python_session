{
 "cells": [
  {
   "cell_type": "markdown",
   "id": "1e68abbf",
   "metadata": {},
   "source": [
    "**Basic Representation**"
   ]
  },
  {
   "cell_type": "markdown",
   "id": "5a883dcf",
   "metadata": {},
   "source": [
    "- Strings will use in qoutes\n",
    "\n",
    "- list elemnts is in sqaure brackets"
   ]
  },
  {
   "cell_type": "code",
   "execution_count": 2,
   "id": "daaa0ca0",
   "metadata": {},
   "outputs": [],
   "source": [
    "l1=[1,2,3,4,5]"
   ]
  },
  {
   "cell_type": "code",
   "execution_count": 3,
   "id": "191f0d3a",
   "metadata": {},
   "outputs": [
    {
     "data": {
      "text/plain": [
       "[1, 2, 3, 4, 5]"
      ]
     },
     "execution_count": 3,
     "metadata": {},
     "output_type": "execute_result"
    }
   ],
   "source": [
    "l1"
   ]
  },
  {
   "cell_type": "code",
   "execution_count": 4,
   "id": "0ee8546e",
   "metadata": {},
   "outputs": [
    {
     "data": {
      "text/plain": [
       "list"
      ]
     },
     "execution_count": 4,
     "metadata": {},
     "output_type": "execute_result"
    }
   ],
   "source": [
    "type(l1)\n",
    "\n",
    "#for strings it will give str\n",
    "\n",
    "#for list it will give list only"
   ]
  },
  {
   "cell_type": "code",
   "execution_count": 5,
   "id": "3cef7660",
   "metadata": {},
   "outputs": [],
   "source": [
    "l2=['A','B','c']"
   ]
  },
  {
   "cell_type": "code",
   "execution_count": 6,
   "id": "e0a8865c",
   "metadata": {},
   "outputs": [
    {
     "data": {
      "text/plain": [
       "['A', 'B', 'c']"
      ]
     },
     "execution_count": 6,
     "metadata": {},
     "output_type": "execute_result"
    }
   ],
   "source": [
    "l2"
   ]
  },
  {
   "cell_type": "code",
   "execution_count": 8,
   "id": "506121bf",
   "metadata": {},
   "outputs": [
    {
     "data": {
      "text/plain": [
       "[1, 2, 3, 4, 5, 'A', 'B', 'c']"
      ]
     },
     "execution_count": 8,
     "metadata": {},
     "output_type": "execute_result"
    }
   ],
   "source": [
    "l1+l2"
   ]
  },
  {
   "cell_type": "code",
   "execution_count": 9,
   "id": "6a5174f9",
   "metadata": {},
   "outputs": [],
   "source": [
    "l1=[1,2,3,4,5]\n",
    "l2=['dad','mom','hope']\n",
    "l3=['3.0','4.5','hi']"
   ]
  },
  {
   "cell_type": "code",
   "execution_count": 10,
   "id": "9b830827",
   "metadata": {},
   "outputs": [
    {
     "data": {
      "text/plain": [
       "[1, 2, 3, 4, 5, 'dad', 'mom', 'hope', '3.0', '4.5', 'hi']"
      ]
     },
     "execution_count": 10,
     "metadata": {},
     "output_type": "execute_result"
    }
   ],
   "source": [
    "l1+l2+l3"
   ]
  },
  {
   "cell_type": "code",
   "execution_count": 11,
   "id": "239c2c46",
   "metadata": {},
   "outputs": [],
   "source": [
    "l5=[10,10,10]"
   ]
  },
  {
   "cell_type": "code",
   "execution_count": 12,
   "id": "0b18af45",
   "metadata": {},
   "outputs": [
    {
     "data": {
      "text/plain": [
       "[10, 10, 10]"
      ]
     },
     "execution_count": 12,
     "metadata": {},
     "output_type": "execute_result"
    }
   ],
   "source": [
    "l5"
   ]
  },
  {
   "cell_type": "code",
   "execution_count": 14,
   "id": "0ca5a797",
   "metadata": {},
   "outputs": [],
   "source": [
    "l6=[True,False]"
   ]
  },
  {
   "cell_type": "markdown",
   "id": "bb815a91",
   "metadata": {},
   "source": [
    "l6"
   ]
  },
  {
   "cell_type": "code",
   "execution_count": 15,
   "id": "4cee7dc6",
   "metadata": {},
   "outputs": [
    {
     "data": {
      "text/plain": [
       "[True, False]"
      ]
     },
     "execution_count": 15,
     "metadata": {},
     "output_type": "execute_result"
    }
   ],
   "source": [
    "l6"
   ]
  },
  {
   "cell_type": "code",
   "execution_count": 16,
   "id": "4b929195",
   "metadata": {},
   "outputs": [],
   "source": [
    "l7=[[10]]"
   ]
  },
  {
   "cell_type": "code",
   "execution_count": 17,
   "id": "cb2bd466",
   "metadata": {},
   "outputs": [
    {
     "data": {
      "text/plain": [
       "[[10]]"
      ]
     },
     "execution_count": 17,
     "metadata": {},
     "output_type": "execute_result"
    }
   ],
   "source": [
    "l7"
   ]
  },
  {
   "cell_type": "code",
   "execution_count": 18,
   "id": "992fcaf0",
   "metadata": {},
   "outputs": [],
   "source": [
    "name='python'"
   ]
  },
  {
   "cell_type": "code",
   "execution_count": 19,
   "id": "c3cf5803",
   "metadata": {},
   "outputs": [],
   "source": [
    "l8=[name]"
   ]
  },
  {
   "cell_type": "code",
   "execution_count": 20,
   "id": "efbdcbf5",
   "metadata": {},
   "outputs": [
    {
     "data": {
      "text/plain": [
       "['python']"
      ]
     },
     "execution_count": 20,
     "metadata": {},
     "output_type": "execute_result"
    }
   ],
   "source": [
    "l8"
   ]
  },
  {
   "cell_type": "code",
   "execution_count": 21,
   "id": "fd661a63",
   "metadata": {},
   "outputs": [],
   "source": [
    "l9=[_]"
   ]
  },
  {
   "cell_type": "code",
   "execution_count": 22,
   "id": "0e58b870",
   "metadata": {},
   "outputs": [
    {
     "data": {
      "text/plain": [
       "[['python']]"
      ]
     },
     "execution_count": 22,
     "metadata": {},
     "output_type": "execute_result"
    }
   ],
   "source": [
    "l9"
   ]
  },
  {
   "cell_type": "code",
   "execution_count": 23,
   "id": "8ad3b3d2",
   "metadata": {},
   "outputs": [],
   "source": [
    "l1=[10,20,30,2,75]\n",
    "l2=['apple','Apple','Banana']\n",
    "l3=[10,20,30,2,75,'apple','Apple','Banana']\n",
    "#perform all the inbuilt functions\n",
    "#sum min max sorted reversed"
   ]
  },
  {
   "cell_type": "code",
   "execution_count": 24,
   "id": "88551072",
   "metadata": {},
   "outputs": [
    {
     "name": "stdout",
     "output_type": "stream",
     "text": [
      "[10, 20, 30, 2, 75]\n"
     ]
    }
   ],
   "source": [
    "print(l1)"
   ]
  },
  {
   "cell_type": "code",
   "execution_count": 25,
   "id": "129a32ec",
   "metadata": {},
   "outputs": [
    {
     "name": "stdout",
     "output_type": "stream",
     "text": [
      "['apple', 'Apple', 'Banana']\n"
     ]
    }
   ],
   "source": [
    "print(l2)"
   ]
  },
  {
   "cell_type": "code",
   "execution_count": 26,
   "id": "9fb237c8",
   "metadata": {},
   "outputs": [
    {
     "name": "stdout",
     "output_type": "stream",
     "text": [
      "[10, 20, 30, 2, 75, 'apple', 'Apple', 'Banana']\n"
     ]
    }
   ],
   "source": [
    "print(l3)"
   ]
  },
  {
   "cell_type": "code",
   "execution_count": 28,
   "id": "4b17b8e4",
   "metadata": {},
   "outputs": [
    {
     "data": {
      "text/plain": [
       "list"
      ]
     },
     "execution_count": 28,
     "metadata": {},
     "output_type": "execute_result"
    }
   ],
   "source": [
    "type(l1)"
   ]
  },
  {
   "cell_type": "code",
   "execution_count": 29,
   "id": "4d752f5b",
   "metadata": {},
   "outputs": [
    {
     "data": {
      "text/plain": [
       "list"
      ]
     },
     "execution_count": 29,
     "metadata": {},
     "output_type": "execute_result"
    }
   ],
   "source": [
    "type(l2)"
   ]
  },
  {
   "cell_type": "code",
   "execution_count": 30,
   "id": "87cdc78e",
   "metadata": {},
   "outputs": [
    {
     "data": {
      "text/plain": [
       "list"
      ]
     },
     "execution_count": 30,
     "metadata": {},
     "output_type": "execute_result"
    }
   ],
   "source": [
    "type(l3)"
   ]
  },
  {
   "cell_type": "code",
   "execution_count": 31,
   "id": "aee8bba7",
   "metadata": {},
   "outputs": [
    {
     "data": {
      "text/plain": [
       "75"
      ]
     },
     "execution_count": 31,
     "metadata": {},
     "output_type": "execute_result"
    }
   ],
   "source": [
    "max(l1)"
   ]
  },
  {
   "cell_type": "code",
   "execution_count": 32,
   "id": "315422cf",
   "metadata": {},
   "outputs": [
    {
     "data": {
      "text/plain": [
       "'apple'"
      ]
     },
     "execution_count": 32,
     "metadata": {},
     "output_type": "execute_result"
    }
   ],
   "source": [
    "max(l2)"
   ]
  },
  {
   "cell_type": "code",
   "execution_count": 33,
   "id": "029c3372",
   "metadata": {},
   "outputs": [
    {
     "ename": "TypeError",
     "evalue": "'>' not supported between instances of 'str' and 'int'",
     "output_type": "error",
     "traceback": [
      "\u001b[1;31m---------------------------------------------------------------------------\u001b[0m",
      "\u001b[1;31mTypeError\u001b[0m                                 Traceback (most recent call last)",
      "\u001b[1;32m~\\AppData\\Local\\Temp\\ipykernel_9864\\1074748526.py\u001b[0m in \u001b[0;36m<module>\u001b[1;34m\u001b[0m\n\u001b[1;32m----> 1\u001b[1;33m \u001b[0mmax\u001b[0m\u001b[1;33m(\u001b[0m\u001b[0ml3\u001b[0m\u001b[1;33m)\u001b[0m\u001b[1;33m\u001b[0m\u001b[1;33m\u001b[0m\u001b[0m\n\u001b[0m",
      "\u001b[1;31mTypeError\u001b[0m: '>' not supported between instances of 'str' and 'int'"
     ]
    }
   ],
   "source": [
    "max(l3)"
   ]
  },
  {
   "cell_type": "code",
   "execution_count": 34,
   "id": "f0a520d1",
   "metadata": {},
   "outputs": [
    {
     "data": {
      "text/plain": [
       "2"
      ]
     },
     "execution_count": 34,
     "metadata": {},
     "output_type": "execute_result"
    }
   ],
   "source": [
    "min(l1)"
   ]
  },
  {
   "cell_type": "code",
   "execution_count": 35,
   "id": "46089ca6",
   "metadata": {},
   "outputs": [
    {
     "data": {
      "text/plain": [
       "'Apple'"
      ]
     },
     "execution_count": 35,
     "metadata": {},
     "output_type": "execute_result"
    }
   ],
   "source": [
    "min(l2)"
   ]
  },
  {
   "cell_type": "code",
   "execution_count": 36,
   "id": "bd9c6f36",
   "metadata": {},
   "outputs": [
    {
     "ename": "TypeError",
     "evalue": "'<' not supported between instances of 'str' and 'int'",
     "output_type": "error",
     "traceback": [
      "\u001b[1;31m---------------------------------------------------------------------------\u001b[0m",
      "\u001b[1;31mTypeError\u001b[0m                                 Traceback (most recent call last)",
      "\u001b[1;32m~\\AppData\\Local\\Temp\\ipykernel_9864\\4080552766.py\u001b[0m in \u001b[0;36m<module>\u001b[1;34m\u001b[0m\n\u001b[1;32m----> 1\u001b[1;33m \u001b[0mmin\u001b[0m\u001b[1;33m(\u001b[0m\u001b[0ml3\u001b[0m\u001b[1;33m)\u001b[0m\u001b[1;33m\u001b[0m\u001b[1;33m\u001b[0m\u001b[0m\n\u001b[0m",
      "\u001b[1;31mTypeError\u001b[0m: '<' not supported between instances of 'str' and 'int'"
     ]
    }
   ],
   "source": [
    "min(l3)"
   ]
  },
  {
   "cell_type": "code",
   "execution_count": 37,
   "id": "1570806e",
   "metadata": {},
   "outputs": [
    {
     "data": {
      "text/plain": [
       "[2, 10, 20, 30, 75]"
      ]
     },
     "execution_count": 37,
     "metadata": {},
     "output_type": "execute_result"
    }
   ],
   "source": [
    "sorted(l1)"
   ]
  },
  {
   "cell_type": "code",
   "execution_count": 38,
   "id": "c1c22c43",
   "metadata": {},
   "outputs": [
    {
     "data": {
      "text/plain": [
       "['Apple', 'Banana', 'apple']"
      ]
     },
     "execution_count": 38,
     "metadata": {},
     "output_type": "execute_result"
    }
   ],
   "source": [
    "sorted(l2)"
   ]
  },
  {
   "cell_type": "code",
   "execution_count": 39,
   "id": "d6a8ef31",
   "metadata": {
    "scrolled": true
   },
   "outputs": [
    {
     "ename": "TypeError",
     "evalue": "'<' not supported between instances of 'str' and 'int'",
     "output_type": "error",
     "traceback": [
      "\u001b[1;31m---------------------------------------------------------------------------\u001b[0m",
      "\u001b[1;31mTypeError\u001b[0m                                 Traceback (most recent call last)",
      "\u001b[1;32m~\\AppData\\Local\\Temp\\ipykernel_9864\\3352228118.py\u001b[0m in \u001b[0;36m<module>\u001b[1;34m\u001b[0m\n\u001b[1;32m----> 1\u001b[1;33m \u001b[0msorted\u001b[0m\u001b[1;33m(\u001b[0m\u001b[0ml3\u001b[0m\u001b[1;33m)\u001b[0m\u001b[1;33m\u001b[0m\u001b[1;33m\u001b[0m\u001b[0m\n\u001b[0m",
      "\u001b[1;31mTypeError\u001b[0m: '<' not supported between instances of 'str' and 'int'"
     ]
    }
   ],
   "source": [
    "sorted(l3)"
   ]
  },
  {
   "cell_type": "code",
   "execution_count": 40,
   "id": "1c5eb2ad",
   "metadata": {},
   "outputs": [
    {
     "data": {
      "text/plain": [
       "<list_reverseiterator at 0x29478d0c370>"
      ]
     },
     "execution_count": 40,
     "metadata": {},
     "output_type": "execute_result"
    }
   ],
   "source": [
    "reversed(l1)"
   ]
  },
  {
   "cell_type": "code",
   "execution_count": 41,
   "id": "b422172a",
   "metadata": {},
   "outputs": [
    {
     "data": {
      "text/plain": [
       "<list_reverseiterator at 0x29478941550>"
      ]
     },
     "execution_count": 41,
     "metadata": {},
     "output_type": "execute_result"
    }
   ],
   "source": [
    "reversed(l2)"
   ]
  },
  {
   "cell_type": "code",
   "execution_count": 42,
   "id": "a6803ef4",
   "metadata": {},
   "outputs": [
    {
     "data": {
      "text/plain": [
       "<list_reverseiterator at 0x29478d0c730>"
      ]
     },
     "execution_count": 42,
     "metadata": {},
     "output_type": "execute_result"
    }
   ],
   "source": [
    "reversed(l3)"
   ]
  },
  {
   "cell_type": "code",
   "execution_count": 43,
   "id": "6aaa1cc5",
   "metadata": {},
   "outputs": [
    {
     "data": {
      "text/plain": [
       "137"
      ]
     },
     "execution_count": 43,
     "metadata": {},
     "output_type": "execute_result"
    }
   ],
   "source": [
    "sum(l1)"
   ]
  },
  {
   "cell_type": "code",
   "execution_count": 44,
   "id": "a35ce663",
   "metadata": {},
   "outputs": [
    {
     "ename": "TypeError",
     "evalue": "unsupported operand type(s) for +: 'int' and 'str'",
     "output_type": "error",
     "traceback": [
      "\u001b[1;31m---------------------------------------------------------------------------\u001b[0m",
      "\u001b[1;31mTypeError\u001b[0m                                 Traceback (most recent call last)",
      "\u001b[1;32m~\\AppData\\Local\\Temp\\ipykernel_9864\\4090203339.py\u001b[0m in \u001b[0;36m<module>\u001b[1;34m\u001b[0m\n\u001b[1;32m----> 1\u001b[1;33m \u001b[0msum\u001b[0m\u001b[1;33m(\u001b[0m\u001b[0ml2\u001b[0m\u001b[1;33m)\u001b[0m\u001b[1;33m\u001b[0m\u001b[1;33m\u001b[0m\u001b[0m\n\u001b[0m",
      "\u001b[1;31mTypeError\u001b[0m: unsupported operand type(s) for +: 'int' and 'str'"
     ]
    }
   ],
   "source": [
    "sum(l2)"
   ]
  },
  {
   "cell_type": "code",
   "execution_count": 45,
   "id": "5f8bdaa1",
   "metadata": {},
   "outputs": [
    {
     "ename": "TypeError",
     "evalue": "unsupported operand type(s) for +: 'int' and 'str'",
     "output_type": "error",
     "traceback": [
      "\u001b[1;31m---------------------------------------------------------------------------\u001b[0m",
      "\u001b[1;31mTypeError\u001b[0m                                 Traceback (most recent call last)",
      "\u001b[1;32m~\\AppData\\Local\\Temp\\ipykernel_9864\\1298898453.py\u001b[0m in \u001b[0;36m<module>\u001b[1;34m\u001b[0m\n\u001b[1;32m----> 1\u001b[1;33m \u001b[0msum\u001b[0m\u001b[1;33m(\u001b[0m\u001b[0ml3\u001b[0m\u001b[1;33m)\u001b[0m\u001b[1;33m\u001b[0m\u001b[1;33m\u001b[0m\u001b[0m\n\u001b[0m",
      "\u001b[1;31mTypeError\u001b[0m: unsupported operand type(s) for +: 'int' and 'str'"
     ]
    }
   ],
   "source": [
    "sum(l3)"
   ]
  },
  {
   "cell_type": "code",
   "execution_count": 46,
   "id": "b324acec",
   "metadata": {},
   "outputs": [
    {
     "data": {
      "text/plain": [
       "(5, 3, 8)"
      ]
     },
     "execution_count": 46,
     "metadata": {},
     "output_type": "execute_result"
    }
   ],
   "source": [
    "len(l1),len(l2),len(l3)"
   ]
  },
  {
   "cell_type": "code",
   "execution_count": 50,
   "id": "71a1d70e",
   "metadata": {},
   "outputs": [
    {
     "name": "stdout",
     "output_type": "stream",
     "text": [
      "[75, 2, 30, 20, 10]\n"
     ]
    }
   ],
   "source": [
    "l4=list(reversed(l1))\n",
    "print(l4)"
   ]
  },
  {
   "cell_type": "code",
   "execution_count": 53,
   "id": "207a0740",
   "metadata": {},
   "outputs": [
    {
     "name": "stdout",
     "output_type": "stream",
     "text": [
      "75 2 30 20 10 "
     ]
    }
   ],
   "source": [
    "for i in reversed(l1):\n",
    "    print(i,end=' ')"
   ]
  },
  {
   "cell_type": "code",
   "execution_count": 54,
   "id": "0f39357e",
   "metadata": {},
   "outputs": [
    {
     "data": {
      "text/plain": [
       "([2, 10, 20, 30, 75], [75, 30, 20, 10, 2])"
      ]
     },
     "execution_count": 54,
     "metadata": {},
     "output_type": "execute_result"
    }
   ],
   "source": [
    "sorted(l1), sorted(l1,reverse=True)"
   ]
  },
  {
   "cell_type": "code",
   "execution_count": 58,
   "id": "28c4bf0e",
   "metadata": {},
   "outputs": [],
   "source": [
    "#in the interview \n",
    "#l1\n",
    "#find the max value without using max\n",
    "#find the min value without using min\n",
    "#find the sorted value without using sorted\n",
    "#reverse the elements without using reverse function\n",
    "#sum of the elements without using sum function\n",
    "#find the second min and second max"
   ]
  },
  {
   "cell_type": "code",
   "execution_count": 56,
   "id": "9e8bf472",
   "metadata": {},
   "outputs": [
    {
     "data": {
      "text/plain": [
       "[10, 20, 30, 2, 75]"
      ]
     },
     "execution_count": 56,
     "metadata": {},
     "output_type": "execute_result"
    }
   ],
   "source": [
    "l1"
   ]
  },
  {
   "cell_type": "code",
   "execution_count": 57,
   "id": "f6c97ec9",
   "metadata": {},
   "outputs": [
    {
     "data": {
      "text/plain": [
       "[10, 20, 30, 2, 75, 'apple', 'Apple', 'Banana']"
      ]
     },
     "execution_count": 57,
     "metadata": {},
     "output_type": "execute_result"
    }
   ],
   "source": [
    "l1+l2"
   ]
  },
  {
   "cell_type": "code",
   "execution_count": 59,
   "id": "8dd5f417",
   "metadata": {},
   "outputs": [
    {
     "ename": "TypeError",
     "evalue": "can't multiply sequence by non-int of type 'list'",
     "output_type": "error",
     "traceback": [
      "\u001b[1;31m---------------------------------------------------------------------------\u001b[0m",
      "\u001b[1;31mTypeError\u001b[0m                                 Traceback (most recent call last)",
      "\u001b[1;32m~\\AppData\\Local\\Temp\\ipykernel_9864\\923220197.py\u001b[0m in \u001b[0;36m<module>\u001b[1;34m\u001b[0m\n\u001b[1;32m----> 1\u001b[1;33m \u001b[0ml1\u001b[0m\u001b[1;33m*\u001b[0m\u001b[0ml2\u001b[0m\u001b[1;33m\u001b[0m\u001b[1;33m\u001b[0m\u001b[0m\n\u001b[0m",
      "\u001b[1;31mTypeError\u001b[0m: can't multiply sequence by non-int of type 'list'"
     ]
    }
   ],
   "source": [
    "l1*l2"
   ]
  },
  {
   "cell_type": "code",
   "execution_count": 60,
   "id": "d35c78b0",
   "metadata": {},
   "outputs": [
    {
     "data": {
      "text/plain": [
       "'pythonpython'"
      ]
     },
     "execution_count": 60,
     "metadata": {},
     "output_type": "execute_result"
    }
   ],
   "source": [
    "'python'*2"
   ]
  },
  {
   "cell_type": "code",
   "execution_count": 61,
   "id": "e3305268",
   "metadata": {},
   "outputs": [
    {
     "data": {
      "text/plain": [
       "['apple', 'Apple', 'Banana', 'apple', 'Apple', 'Banana']"
      ]
     },
     "execution_count": 61,
     "metadata": {},
     "output_type": "execute_result"
    }
   ],
   "source": [
    "l2*2"
   ]
  },
  {
   "cell_type": "code",
   "execution_count": 63,
   "id": "529f5a7a",
   "metadata": {},
   "outputs": [
    {
     "ename": "TypeError",
     "evalue": "unsupported operand type(s) for -: 'list' and 'list'",
     "output_type": "error",
     "traceback": [
      "\u001b[1;31m---------------------------------------------------------------------------\u001b[0m",
      "\u001b[1;31mTypeError\u001b[0m                                 Traceback (most recent call last)",
      "\u001b[1;32m~\\AppData\\Local\\Temp\\ipykernel_9864\\610468436.py\u001b[0m in \u001b[0;36m<module>\u001b[1;34m\u001b[0m\n\u001b[1;32m----> 1\u001b[1;33m \u001b[0ml2\u001b[0m\u001b[1;33m-\u001b[0m\u001b[0ml2\u001b[0m\u001b[1;33m\u001b[0m\u001b[1;33m\u001b[0m\u001b[0m\n\u001b[0m",
      "\u001b[1;31mTypeError\u001b[0m: unsupported operand type(s) for -: 'list' and 'list'"
     ]
    }
   ],
   "source": [
    "l2-l2"
   ]
  },
  {
   "cell_type": "code",
   "execution_count": 64,
   "id": "746ecf86",
   "metadata": {},
   "outputs": [
    {
     "ename": "TypeError",
     "evalue": "unsupported operand type(s) for -: 'list' and 'list'",
     "output_type": "error",
     "traceback": [
      "\u001b[1;31m---------------------------------------------------------------------------\u001b[0m",
      "\u001b[1;31mTypeError\u001b[0m                                 Traceback (most recent call last)",
      "\u001b[1;32m~\\AppData\\Local\\Temp\\ipykernel_9864\\610468436.py\u001b[0m in \u001b[0;36m<module>\u001b[1;34m\u001b[0m\n\u001b[1;32m----> 1\u001b[1;33m \u001b[0ml2\u001b[0m\u001b[1;33m-\u001b[0m\u001b[0ml2\u001b[0m\u001b[1;33m\u001b[0m\u001b[1;33m\u001b[0m\u001b[0m\n\u001b[0m",
      "\u001b[1;31mTypeError\u001b[0m: unsupported operand type(s) for -: 'list' and 'list'"
     ]
    }
   ],
   "source": [
    "l2-l2"
   ]
  },
  {
   "cell_type": "code",
   "execution_count": 65,
   "id": "d178f56a",
   "metadata": {},
   "outputs": [],
   "source": [
    "list1=[10,20,30,'A','B','C']"
   ]
  },
  {
   "cell_type": "code",
   "execution_count": null,
   "id": "d81f0c6c",
   "metadata": {},
   "outputs": [],
   "source": [
    "-6  -5  -4  -3 -2 -1\n",
    "10  20  30  A  B  C\n",
    "0   2   3   4  5  6"
   ]
  },
  {
   "cell_type": "code",
   "execution_count": 66,
   "id": "d8773d9e",
   "metadata": {},
   "outputs": [
    {
     "data": {
      "text/plain": [
       "(10, 10)"
      ]
     },
     "execution_count": 66,
     "metadata": {},
     "output_type": "execute_result"
    }
   ],
   "source": [
    "list1[0],list1[-6]"
   ]
  },
  {
   "cell_type": "code",
   "execution_count": 69,
   "id": "f9ef1d0b",
   "metadata": {},
   "outputs": [
    {
     "name": "stdout",
     "output_type": "stream",
     "text": [
      "the positive index is 0 and negetive index is -6 of 10\n",
      "the positive index is 1 and negetive index is -5 of 20\n",
      "the positive index is 2 and negetive index is -4 of 30\n",
      "the positive index is 3 and negetive index is -3 of A\n",
      "the positive index is 4 and negetive index is -2 of B\n",
      "the positive index is 5 and negetive index is -1 of C\n"
     ]
    }
   ],
   "source": [
    "n=len(list1)\n",
    "for i in range(n):\n",
    "    print(f'the positive index is {i} and negetive index is {i-6} of {list1[i]}')"
   ]
  },
  {
   "cell_type": "code",
   "execution_count": 70,
   "id": "eb8050d7",
   "metadata": {},
   "outputs": [
    {
     "data": {
      "text/plain": [
       "10"
      ]
     },
     "execution_count": 70,
     "metadata": {},
     "output_type": "execute_result"
    }
   ],
   "source": [
    "l1=[10,20,30]\n",
    "l1[0]\n",
    "#inside list only one element is there"
   ]
  },
  {
   "cell_type": "code",
   "execution_count": 71,
   "id": "62ffc968",
   "metadata": {},
   "outputs": [
    {
     "data": {
      "text/plain": [
       "[10]"
      ]
     },
     "execution_count": 71,
     "metadata": {},
     "output_type": "execute_result"
    }
   ],
   "source": [
    "l2=[[10]]\n",
    "l2[0]\n",
    "#inside list there is another list is there "
   ]
  },
  {
   "cell_type": "code",
   "execution_count": 73,
   "id": "7356d726",
   "metadata": {},
   "outputs": [
    {
     "data": {
      "text/plain": [
       "10"
      ]
     },
     "execution_count": 73,
     "metadata": {},
     "output_type": "execute_result"
    }
   ],
   "source": [
    "l2[0][0]\n",
    "#because we have another list in list"
   ]
  },
  {
   "cell_type": "code",
   "execution_count": 75,
   "id": "a058a8b1",
   "metadata": {},
   "outputs": [
    {
     "data": {
      "text/plain": [
       "20"
      ]
     },
     "execution_count": 75,
     "metadata": {},
     "output_type": "execute_result"
    }
   ],
   "source": [
    "l3=[[20],30,40]\n",
    "l3[0][0]"
   ]
  },
  {
   "cell_type": "code",
   "execution_count": 76,
   "id": "e60b5985",
   "metadata": {},
   "outputs": [
    {
     "data": {
      "text/plain": [
       "30"
      ]
     },
     "execution_count": 76,
     "metadata": {},
     "output_type": "execute_result"
    }
   ],
   "source": [
    "l3[1]"
   ]
  },
  {
   "cell_type": "code",
   "execution_count": 77,
   "id": "bc682ea1",
   "metadata": {},
   "outputs": [],
   "source": [
    "l3=[[20],[30,40],20]"
   ]
  },
  {
   "cell_type": "code",
   "execution_count": 79,
   "id": "2bc30a4f",
   "metadata": {},
   "outputs": [
    {
     "data": {
      "text/plain": [
       "40"
      ]
     },
     "execution_count": 79,
     "metadata": {},
     "output_type": "execute_result"
    }
   ],
   "source": [
    "l3[1][1]"
   ]
  },
  {
   "cell_type": "code",
   "execution_count": 80,
   "id": "b9b6b815",
   "metadata": {},
   "outputs": [
    {
     "ename": "IndexError",
     "evalue": "list index out of range",
     "output_type": "error",
     "traceback": [
      "\u001b[1;31m---------------------------------------------------------------------------\u001b[0m",
      "\u001b[1;31mIndexError\u001b[0m                                Traceback (most recent call last)",
      "\u001b[1;32m~\\AppData\\Local\\Temp\\ipykernel_9864\\2587213132.py\u001b[0m in \u001b[0;36m<module>\u001b[1;34m\u001b[0m\n\u001b[1;32m----> 1\u001b[1;33m \u001b[0ml3\u001b[0m\u001b[1;33m[\u001b[0m\u001b[1;36m1\u001b[0m\u001b[1;33m]\u001b[0m\u001b[1;33m[\u001b[0m\u001b[1;36m2\u001b[0m\u001b[1;33m]\u001b[0m\u001b[1;33m\u001b[0m\u001b[1;33m\u001b[0m\u001b[0m\n\u001b[0m",
      "\u001b[1;31mIndexError\u001b[0m: list index out of range"
     ]
    }
   ],
   "source": [
    "l3[1][2]"
   ]
  },
  {
   "cell_type": "code",
   "execution_count": 81,
   "id": "d8787141",
   "metadata": {},
   "outputs": [
    {
     "data": {
      "text/plain": [
       "30"
      ]
     },
     "execution_count": 81,
     "metadata": {},
     "output_type": "execute_result"
    }
   ],
   "source": [
    "l1=[20,[30]]\n",
    "l1[1][0]"
   ]
  },
  {
   "cell_type": "code",
   "execution_count": 82,
   "id": "fdd06eca",
   "metadata": {},
   "outputs": [
    {
     "data": {
      "text/plain": [
       "['A', ['Apple', 'B', ['Banana'], 'C', ['Cherry']]]"
      ]
     },
     "execution_count": 82,
     "metadata": {},
     "output_type": "execute_result"
    }
   ],
   "source": [
    "l1=['A',['Apple','B',['Banana'],'C',['Cherry']]]\n",
    "l1"
   ]
  },
  {
   "cell_type": "code",
   "execution_count": 85,
   "id": "e5d46650",
   "metadata": {},
   "outputs": [
    {
     "data": {
      "text/plain": [
       "'Cherry'"
      ]
     },
     "execution_count": 85,
     "metadata": {},
     "output_type": "execute_result"
    }
   ],
   "source": [
    "l1[1][4][0]"
   ]
  },
  {
   "cell_type": "code",
   "execution_count": 89,
   "id": "ebd12641",
   "metadata": {},
   "outputs": [
    {
     "data": {
      "text/plain": [
       "['A', ['Apple', 'B', ['Banana', 'C', ['Cherry', 'D', ['Dragon fruit']]]]]"
      ]
     },
     "execution_count": 89,
     "metadata": {},
     "output_type": "execute_result"
    }
   ],
   "source": [
    "l1=['A',['Apple','B',['Banana','C',['Cherry','D',['Dragon fruit']]]]]\n",
    "l1"
   ]
  },
  {
   "cell_type": "code",
   "execution_count": 91,
   "id": "304f688f",
   "metadata": {},
   "outputs": [
    {
     "data": {
      "text/plain": [
       "'Dragon fruit'"
      ]
     },
     "execution_count": 91,
     "metadata": {},
     "output_type": "execute_result"
    }
   ],
   "source": [
    "l1[1][2][2][2][0]"
   ]
  },
  {
   "cell_type": "code",
   "execution_count": 92,
   "id": "7ceb66bf",
   "metadata": {},
   "outputs": [
    {
     "data": {
      "text/plain": [
       "3"
      ]
     },
     "execution_count": 92,
     "metadata": {},
     "output_type": "execute_result"
    }
   ],
   "source": [
    "len(l1[1])"
   ]
  },
  {
   "cell_type": "code",
   "execution_count": 97,
   "id": "ea11ebf2",
   "metadata": {},
   "outputs": [
    {
     "data": {
      "text/plain": [
       "'Bat'"
      ]
     },
     "execution_count": 97,
     "metadata": {},
     "output_type": "execute_result"
    }
   ],
   "source": [
    "l1=['Apple','Kashmir',['India',['cricket',['Bat']]]]\n",
    "l1[2][1][1][0]"
   ]
  },
  {
   "cell_type": "code",
   "execution_count": 99,
   "id": "a9fdbd79",
   "metadata": {},
   "outputs": [],
   "source": [
    "l2=['mango','orange',['nagpur','market',['mh','pune',['shivaji',['sambaji','vicky']]]]]"
   ]
  },
  {
   "cell_type": "code",
   "execution_count": 101,
   "id": "a5f0a054",
   "metadata": {},
   "outputs": [
    {
     "data": {
      "text/plain": [
       "'vicky'"
      ]
     },
     "execution_count": 101,
     "metadata": {},
     "output_type": "execute_result"
    }
   ],
   "source": [
    "l2[2][2][2][1][1]"
   ]
  },
  {
   "cell_type": "code",
   "execution_count": 102,
   "id": "5e963a63",
   "metadata": {},
   "outputs": [],
   "source": [
    "l1=[[[[[[[[[[['super']]]]]]]]]]]"
   ]
  },
  {
   "cell_type": "code",
   "execution_count": 103,
   "id": "c9be47da",
   "metadata": {},
   "outputs": [
    {
     "data": {
      "text/plain": [
       "1"
      ]
     },
     "execution_count": 103,
     "metadata": {},
     "output_type": "execute_result"
    }
   ],
   "source": [
    "len(l1)"
   ]
  },
  {
   "cell_type": "code",
   "execution_count": 105,
   "id": "b77fda66",
   "metadata": {},
   "outputs": [
    {
     "data": {
      "text/plain": [
       "'super'"
      ]
     },
     "execution_count": 105,
     "metadata": {},
     "output_type": "execute_result"
    }
   ],
   "source": [
    "l1[0][0][0][0][0][0][0][0][0][0][0]"
   ]
  },
  {
   "cell_type": "markdown",
   "id": "bb692118",
   "metadata": {},
   "source": [
    "**Mutable or Immutable**"
   ]
  },
  {
   "cell_type": "code",
   "execution_count": 1,
   "id": "d867e536",
   "metadata": {},
   "outputs": [],
   "source": [
    "l1=[10,20,30,40]"
   ]
  },
  {
   "cell_type": "code",
   "execution_count": 2,
   "id": "6275ba17",
   "metadata": {},
   "outputs": [
    {
     "data": {
      "text/plain": [
       "30"
      ]
     },
     "execution_count": 2,
     "metadata": {},
     "output_type": "execute_result"
    }
   ],
   "source": [
    "l1[2]"
   ]
  },
  {
   "cell_type": "code",
   "execution_count": 3,
   "id": "d99f5937",
   "metadata": {},
   "outputs": [],
   "source": [
    "l1[2]=40"
   ]
  },
  {
   "cell_type": "code",
   "execution_count": 4,
   "id": "5c802356",
   "metadata": {},
   "outputs": [
    {
     "data": {
      "text/plain": [
       "40"
      ]
     },
     "execution_count": 4,
     "metadata": {},
     "output_type": "execute_result"
    }
   ],
   "source": [
    "l1[2]"
   ]
  },
  {
   "cell_type": "code",
   "execution_count": 5,
   "id": "97f672a8",
   "metadata": {},
   "outputs": [
    {
     "data": {
      "text/plain": [
       "[10, 20, 40, 40]"
      ]
     },
     "execution_count": 5,
     "metadata": {},
     "output_type": "execute_result"
    }
   ],
   "source": [
    "l1"
   ]
  },
  {
   "cell_type": "markdown",
   "id": "e520c22e",
   "metadata": {},
   "source": [
    "- lists are mutable"
   ]
  },
  {
   "cell_type": "code",
   "execution_count": 7,
   "id": "827dc6b0",
   "metadata": {},
   "outputs": [],
   "source": [
    "l1=['p','y','t','h','o','n']"
   ]
  },
  {
   "cell_type": "code",
   "execution_count": 8,
   "id": "13bcb392",
   "metadata": {},
   "outputs": [
    {
     "data": {
      "text/plain": [
       "'t'"
      ]
     },
     "execution_count": 8,
     "metadata": {},
     "output_type": "execute_result"
    }
   ],
   "source": [
    "l1[2]"
   ]
  },
  {
   "cell_type": "code",
   "execution_count": 9,
   "id": "5d40406c",
   "metadata": {},
   "outputs": [],
   "source": [
    "l1[2]='T'"
   ]
  },
  {
   "cell_type": "code",
   "execution_count": 13,
   "id": "66721bb8",
   "metadata": {},
   "outputs": [
    {
     "data": {
      "text/plain": [
       "['p', 'y', 'T', 'h', 'o', 'n']"
      ]
     },
     "execution_count": 13,
     "metadata": {},
     "output_type": "execute_result"
    }
   ],
   "source": [
    "l1"
   ]
  },
  {
   "cell_type": "code",
   "execution_count": 17,
   "id": "180253b1",
   "metadata": {},
   "outputs": [
    {
     "ename": "NameError",
     "evalue": "name 'p' is not defined",
     "output_type": "error",
     "traceback": [
      "\u001b[1;31m---------------------------------------------------------------------------\u001b[0m",
      "\u001b[1;31mNameError\u001b[0m                                 Traceback (most recent call last)",
      "\u001b[1;32m~\\AppData\\Local\\Temp\\ipykernel_8604\\3068590123.py\u001b[0m in \u001b[0;36m<module>\u001b[1;34m\u001b[0m\n\u001b[1;32m----> 1\u001b[1;33m \u001b[0mp\u001b[0m \u001b[1;32min\u001b[0m \u001b[0ml1\u001b[0m\u001b[1;33m\u001b[0m\u001b[1;33m\u001b[0m\u001b[0m\n\u001b[0m",
      "\u001b[1;31mNameError\u001b[0m: name 'p' is not defined"
     ]
    }
   ],
   "source": [
    "p in l1"
   ]
  },
  {
   "cell_type": "code",
   "execution_count": 1,
   "id": "d3151985",
   "metadata": {},
   "outputs": [],
   "source": [
    "str1='python'\n",
    "list1=['p','y','t']"
   ]
  },
  {
   "cell_type": "code",
   "execution_count": 3,
   "id": "e36eed71",
   "metadata": {},
   "outputs": [
    {
     "data": {
      "text/plain": [
       "True"
      ]
     },
     "execution_count": 3,
     "metadata": {},
     "output_type": "execute_result"
    }
   ],
   "source": [
    "'p' in list1"
   ]
  },
  {
   "cell_type": "code",
   "execution_count": 5,
   "id": "7ddd8172",
   "metadata": {},
   "outputs": [
    {
     "data": {
      "text/plain": [
       "True"
      ]
     },
     "execution_count": 5,
     "metadata": {},
     "output_type": "execute_result"
    }
   ],
   "source": [
    "'p' in str1"
   ]
  },
  {
   "cell_type": "markdown",
   "id": "75afb65e",
   "metadata": {},
   "source": [
    "# in vs Range"
   ]
  },
  {
   "cell_type": "markdown",
   "id": "d614c23b",
   "metadata": {},
   "source": [
    "- when we use index we go for range \n",
    "\n",
    "- when we use elements we go for in"
   ]
  },
  {
   "cell_type": "code",
   "execution_count": 7,
   "id": "23601117",
   "metadata": {},
   "outputs": [
    {
     "name": "stdout",
     "output_type": "stream",
     "text": [
      "p\n",
      "y\n",
      "t\n"
     ]
    }
   ],
   "source": [
    "for i in list1:\n",
    "    print(i)"
   ]
  },
  {
   "cell_type": "code",
   "execution_count": 11,
   "id": "5d7ffd3d",
   "metadata": {},
   "outputs": [
    {
     "name": "stdout",
     "output_type": "stream",
     "text": [
      "p\n",
      "y\n",
      "t\n"
     ]
    }
   ],
   "source": [
    "for i in range(len(list1)):\n",
    "    print(list1[i])"
   ]
  },
  {
   "cell_type": "code",
   "execution_count": 12,
   "id": "eb144735",
   "metadata": {},
   "outputs": [
    {
     "name": "stdout",
     "output_type": "stream",
     "text": [
      "0\n",
      "1\n",
      "2\n"
     ]
    }
   ],
   "source": [
    "for i in range(len(list1)):\n",
    "    print(i)"
   ]
  },
  {
   "cell_type": "markdown",
   "id": "5d01155e",
   "metadata": {},
   "source": [
    "**Slicing**"
   ]
  },
  {
   "cell_type": "code",
   "execution_count": 14,
   "id": "24195020",
   "metadata": {},
   "outputs": [],
   "source": [
    "l1=[10,20,30,30,300,'A','B','KUMAR']"
   ]
  },
  {
   "cell_type": "code",
   "execution_count": 15,
   "id": "fe3e9f3c",
   "metadata": {},
   "outputs": [
    {
     "ename": "SyntaxError",
     "evalue": "invalid syntax (2406392001.py, line 1)",
     "output_type": "error",
     "traceback": [
      "\u001b[1;36m  File \u001b[1;32m\"C:\\Users\\kumar\\AppData\\Local\\Temp\\ipykernel_1664\\2406392001.py\"\u001b[1;36m, line \u001b[1;32m1\u001b[0m\n\u001b[1;33m    l1[]\u001b[0m\n\u001b[1;37m       ^\u001b[0m\n\u001b[1;31mSyntaxError\u001b[0m\u001b[1;31m:\u001b[0m invalid syntax\n"
     ]
    }
   ],
   "source": [
    "l1[]"
   ]
  },
  {
   "cell_type": "code",
   "execution_count": 16,
   "id": "4d54adce",
   "metadata": {},
   "outputs": [
    {
     "data": {
      "text/plain": [
       "[10, 20, 30, 30, 300, 'A', 'B', 'KUMAR']"
      ]
     },
     "execution_count": 16,
     "metadata": {},
     "output_type": "execute_result"
    }
   ],
   "source": [
    "l1[:]"
   ]
  },
  {
   "cell_type": "code",
   "execution_count": 17,
   "id": "4d6784dd",
   "metadata": {},
   "outputs": [
    {
     "data": {
      "text/plain": [
       "[10, 20, 30, 30, 300, 'A', 'B', 'KUMAR']"
      ]
     },
     "execution_count": 17,
     "metadata": {},
     "output_type": "execute_result"
    }
   ],
   "source": [
    "l1[::]"
   ]
  },
  {
   "cell_type": "code",
   "execution_count": 18,
   "id": "0bb6a852",
   "metadata": {},
   "outputs": [
    {
     "data": {
      "text/plain": [
       "['KUMAR', 'B', 'A', 300, 30, 30, 20, 10]"
      ]
     },
     "execution_count": 18,
     "metadata": {},
     "output_type": "execute_result"
    }
   ],
   "source": [
    "l1[::-1]"
   ]
  },
  {
   "cell_type": "code",
   "execution_count": 19,
   "id": "fe9c0431",
   "metadata": {},
   "outputs": [
    {
     "data": {
      "text/plain": [
       "[10, 20, 30, 30, 300, 'A', 'B']"
      ]
     },
     "execution_count": 19,
     "metadata": {},
     "output_type": "execute_result"
    }
   ],
   "source": [
    "l1[:-1]"
   ]
  },
  {
   "cell_type": "code",
   "execution_count": 20,
   "id": "326046aa",
   "metadata": {},
   "outputs": [
    {
     "data": {
      "text/plain": [
       "[30, 300, 'B']"
      ]
     },
     "execution_count": 20,
     "metadata": {},
     "output_type": "execute_result"
    }
   ],
   "source": [
    "l1[2:10:2]"
   ]
  },
  {
   "cell_type": "code",
   "execution_count": 21,
   "id": "bb513287",
   "metadata": {},
   "outputs": [
    {
     "data": {
      "text/plain": [
       "[]"
      ]
     },
     "execution_count": 21,
     "metadata": {},
     "output_type": "execute_result"
    }
   ],
   "source": [
    "l1[2:10:-2]"
   ]
  },
  {
   "cell_type": "code",
   "execution_count": 22,
   "id": "9181632c",
   "metadata": {},
   "outputs": [],
   "source": [
    "str1='Kumar muppidi'\n"
   ]
  },
  {
   "cell_type": "code",
   "execution_count": 24,
   "id": "9cdd8600",
   "metadata": {},
   "outputs": [
    {
     "data": {
      "text/plain": [
       "''"
      ]
     },
     "execution_count": 24,
     "metadata": {},
     "output_type": "execute_result"
    }
   ],
   "source": [
    "str1[2:10:-2]"
   ]
  },
  {
   "cell_type": "code",
   "execution_count": 25,
   "id": "77b78030",
   "metadata": {},
   "outputs": [
    {
     "data": {
      "text/plain": [
       "[]"
      ]
     },
     "execution_count": 25,
     "metadata": {},
     "output_type": "execute_result"
    }
   ],
   "source": [
    "l1[2:-10:2]"
   ]
  },
  {
   "cell_type": "code",
   "execution_count": 26,
   "id": "66e71c05",
   "metadata": {},
   "outputs": [
    {
     "data": {
      "text/plain": [
       "[]"
      ]
     },
     "execution_count": 26,
     "metadata": {},
     "output_type": "execute_result"
    }
   ],
   "source": [
    "l1[-2:-10:2]"
   ]
  },
  {
   "cell_type": "code",
   "execution_count": 27,
   "id": "18525f9e",
   "metadata": {},
   "outputs": [
    {
     "data": {
      "text/plain": [
       "['B']"
      ]
     },
     "execution_count": 27,
     "metadata": {},
     "output_type": "execute_result"
    }
   ],
   "source": [
    "l1[-2:10:2]"
   ]
  },
  {
   "cell_type": "code",
   "execution_count": 28,
   "id": "9df2973a",
   "metadata": {},
   "outputs": [
    {
     "data": {
      "text/plain": [
       "[30, 10]"
      ]
     },
     "execution_count": 28,
     "metadata": {},
     "output_type": "execute_result"
    }
   ],
   "source": [
    "l1[2:-10:-2]"
   ]
  },
  {
   "cell_type": "code",
   "execution_count": 29,
   "id": "d16a2faf",
   "metadata": {},
   "outputs": [
    {
     "data": {
      "text/plain": [
       "[]"
      ]
     },
     "execution_count": 29,
     "metadata": {},
     "output_type": "execute_result"
    }
   ],
   "source": [
    "l1[10:2:2]"
   ]
  },
  {
   "cell_type": "code",
   "execution_count": 30,
   "id": "55a5131f",
   "metadata": {},
   "outputs": [
    {
     "data": {
      "text/plain": [
       "['KUMAR', 'A', 30]"
      ]
     },
     "execution_count": 30,
     "metadata": {},
     "output_type": "execute_result"
    }
   ],
   "source": [
    "l1[10:2:-2]"
   ]
  },
  {
   "cell_type": "code",
   "execution_count": 31,
   "id": "420368e8",
   "metadata": {},
   "outputs": [
    {
     "data": {
      "text/plain": [
       "['B', 300, 30, 10]"
      ]
     },
     "execution_count": 31,
     "metadata": {},
     "output_type": "execute_result"
    }
   ],
   "source": [
    "l1[-2:-10:-2]"
   ]
  },
  {
   "cell_type": "markdown",
   "id": "db929fb5",
   "metadata": {},
   "source": [
    "# Methods"
   ]
  },
  {
   "cell_type": "markdown",
   "id": "c991fc29",
   "metadata": {},
   "source": [
    "- if we want to know the methods\n",
    "\n",
    "* dir(' ')\n",
    "\n",
    "* dir([])"
   ]
  },
  {
   "cell_type": "code",
   "execution_count": 32,
   "id": "7af3298a",
   "metadata": {},
   "outputs": [
    {
     "data": {
      "text/plain": [
       "['__add__',\n",
       " '__class__',\n",
       " '__class_getitem__',\n",
       " '__contains__',\n",
       " '__delattr__',\n",
       " '__delitem__',\n",
       " '__dir__',\n",
       " '__doc__',\n",
       " '__eq__',\n",
       " '__format__',\n",
       " '__ge__',\n",
       " '__getattribute__',\n",
       " '__getitem__',\n",
       " '__gt__',\n",
       " '__hash__',\n",
       " '__iadd__',\n",
       " '__imul__',\n",
       " '__init__',\n",
       " '__init_subclass__',\n",
       " '__iter__',\n",
       " '__le__',\n",
       " '__len__',\n",
       " '__lt__',\n",
       " '__mul__',\n",
       " '__ne__',\n",
       " '__new__',\n",
       " '__reduce__',\n",
       " '__reduce_ex__',\n",
       " '__repr__',\n",
       " '__reversed__',\n",
       " '__rmul__',\n",
       " '__setattr__',\n",
       " '__setitem__',\n",
       " '__sizeof__',\n",
       " '__str__',\n",
       " '__subclasshook__',\n",
       " 'append',\n",
       " 'clear',\n",
       " 'copy',\n",
       " 'count',\n",
       " 'extend',\n",
       " 'index',\n",
       " 'insert',\n",
       " 'pop',\n",
       " 'remove',\n",
       " 'reverse',\n",
       " 'sort']"
      ]
     },
     "execution_count": 32,
     "metadata": {},
     "output_type": "execute_result"
    }
   ],
   "source": [
    "dir([])"
   ]
  },
  {
   "cell_type": "code",
   "execution_count": 2,
   "id": "8ae6d6a4",
   "metadata": {},
   "outputs": [],
   "source": [
    "l1=[50,20,60,40,50]"
   ]
  },
  {
   "cell_type": "code",
   "execution_count": 3,
   "id": "d8bf69e0",
   "metadata": {},
   "outputs": [],
   "source": [
    "l2=l1.sort"
   ]
  },
  {
   "cell_type": "code",
   "execution_count": 4,
   "id": "93de6e23",
   "metadata": {},
   "outputs": [
    {
     "ename": "AttributeError",
     "evalue": "'builtin_function_or_method' object has no attribute 'find'",
     "output_type": "error",
     "traceback": [
      "\u001b[1;31m---------------------------------------------------------------------------\u001b[0m",
      "\u001b[1;31mAttributeError\u001b[0m                            Traceback (most recent call last)",
      "\u001b[1;32m~\\AppData\\Local\\Temp\\ipykernel_8512\\2332919510.py\u001b[0m in \u001b[0;36m<module>\u001b[1;34m\u001b[0m\n\u001b[1;32m----> 1\u001b[1;33m \u001b[0ml2\u001b[0m\u001b[1;33m.\u001b[0m\u001b[0mfind\u001b[0m\u001b[1;33m(\u001b[0m\u001b[1;34m'20'\u001b[0m\u001b[1;33m)\u001b[0m\u001b[1;33m\u001b[0m\u001b[1;33m\u001b[0m\u001b[0m\n\u001b[0m",
      "\u001b[1;31mAttributeError\u001b[0m: 'builtin_function_or_method' object has no attribute 'find'"
     ]
    }
   ],
   "source": [
    "l2.find('20')"
   ]
  },
  {
   "cell_type": "code",
   "execution_count": 48,
   "id": "0bfb6cde",
   "metadata": {},
   "outputs": [
    {
     "ename": "TypeError",
     "evalue": "list.count() takes exactly one argument (0 given)",
     "output_type": "error",
     "traceback": [
      "\u001b[1;31m---------------------------------------------------------------------------\u001b[0m",
      "\u001b[1;31mTypeError\u001b[0m                                 Traceback (most recent call last)",
      "\u001b[1;32m~\\AppData\\Local\\Temp\\ipykernel_1664\\3683059223.py\u001b[0m in \u001b[0;36m<module>\u001b[1;34m\u001b[0m\n\u001b[1;32m----> 1\u001b[1;33m \u001b[0ml1\u001b[0m\u001b[1;33m.\u001b[0m\u001b[0mcount\u001b[0m\u001b[1;33m(\u001b[0m\u001b[1;33m)\u001b[0m\u001b[1;33m\u001b[0m\u001b[1;33m\u001b[0m\u001b[0m\n\u001b[0m",
      "\u001b[1;31mTypeError\u001b[0m: list.count() takes exactly one argument (0 given)"
     ]
    }
   ],
   "source": [
    "l1.count()"
   ]
  },
  {
   "cell_type": "code",
   "execution_count": 49,
   "id": "d5bc7a3e",
   "metadata": {},
   "outputs": [
    {
     "data": {
      "text/plain": [
       "[50, 20, 60, 40, 50]"
      ]
     },
     "execution_count": 49,
     "metadata": {},
     "output_type": "execute_result"
    }
   ],
   "source": [
    "l1.copy()"
   ]
  },
  {
   "cell_type": "code",
   "execution_count": 51,
   "id": "59d5f251",
   "metadata": {},
   "outputs": [],
   "source": [
    "l1.clear()"
   ]
  },
  {
   "cell_type": "markdown",
   "id": "91bde599",
   "metadata": {},
   "source": [
    "- clear\n",
    "\n",
    "- copy\n",
    "\n",
    "- count "
   ]
  },
  {
   "cell_type": "code",
   "execution_count": 53,
   "id": "07ffce40",
   "metadata": {},
   "outputs": [
    {
     "name": "stdout",
     "output_type": "stream",
     "text": [
      "the elemets in l1 is [10, 20, 30, 30, 300, 'A', 'B', 'KUMAR']\n",
      "[]\n"
     ]
    }
   ],
   "source": [
    "l1=[10,20,30,30,300,'A','B','KUMAR']\n",
    "print('the elemets in l1 is',l1)\n",
    "l1.clear()\n",
    "print(l1)"
   ]
  },
  {
   "cell_type": "code",
   "execution_count": 54,
   "id": "2d31dac6",
   "metadata": {},
   "outputs": [
    {
     "name": "stdout",
     "output_type": "stream",
     "text": [
      "the elemets in l1 is [10, 20, 30, 30, 300, 'A', 'B', 'KUMAR']\n",
      "[]\n",
      "[10, 20, 30, 30, 300, 'A', 'B', 'KUMAR']\n"
     ]
    }
   ],
   "source": [
    "l1=[10,20,30,30,300,'A','B','KUMAR']\n",
    "print('the elemets in l1 is',l1)\n",
    "l2=l1.copy()\n",
    "l1.clear()\n",
    "print(l1)\n",
    "print(l2)"
   ]
  },
  {
   "cell_type": "code",
   "execution_count": 58,
   "id": "55213406",
   "metadata": {},
   "outputs": [
    {
     "data": {
      "text/plain": [
       "2"
      ]
     },
     "execution_count": 58,
     "metadata": {},
     "output_type": "execute_result"
    }
   ],
   "source": [
    "l1.count(50)"
   ]
  },
  {
   "cell_type": "code",
   "execution_count": 56,
   "id": "0908c71a",
   "metadata": {},
   "outputs": [
    {
     "data": {
      "text/plain": [
       "[]"
      ]
     },
     "execution_count": 56,
     "metadata": {},
     "output_type": "execute_result"
    }
   ],
   "source": [
    "l1"
   ]
  },
  {
   "cell_type": "markdown",
   "id": "890e5e5a",
   "metadata": {},
   "source": [
    "# append"
   ]
  },
  {
   "cell_type": "markdown",
   "id": "7300899e",
   "metadata": {},
   "source": [
    "- append is very very imp method in the list \n",
    "\n",
    "- in our life we will use this very very frequently\n",
    "\n",
    "- append means adding the element at last"
   ]
  },
  {
   "cell_type": "code",
   "execution_count": 59,
   "id": "f2b1e8ae",
   "metadata": {},
   "outputs": [],
   "source": [
    "l1=[10,20,30]"
   ]
  },
  {
   "cell_type": "code",
   "execution_count": 60,
   "id": "baa1642e",
   "metadata": {},
   "outputs": [],
   "source": [
    "l1.append('banana')"
   ]
  },
  {
   "cell_type": "code",
   "execution_count": 63,
   "id": "aa8b66a0",
   "metadata": {
    "scrolled": true
   },
   "outputs": [
    {
     "ename": "TypeError",
     "evalue": "list.append() takes exactly one argument (2 given)",
     "output_type": "error",
     "traceback": [
      "\u001b[1;31m---------------------------------------------------------------------------\u001b[0m",
      "\u001b[1;31mTypeError\u001b[0m                                 Traceback (most recent call last)",
      "\u001b[1;32m~\\AppData\\Local\\Temp\\ipykernel_1664\\743084271.py\u001b[0m in \u001b[0;36m<module>\u001b[1;34m\u001b[0m\n\u001b[1;32m----> 1\u001b[1;33m \u001b[0ml1\u001b[0m\u001b[1;33m.\u001b[0m\u001b[0mappend\u001b[0m\u001b[1;33m(\u001b[0m\u001b[1;34m'apple'\u001b[0m\u001b[1;33m,\u001b[0m\u001b[1;34m'banana'\u001b[0m\u001b[1;33m)\u001b[0m\u001b[1;33m\u001b[0m\u001b[1;33m\u001b[0m\u001b[0m\n\u001b[0m",
      "\u001b[1;31mTypeError\u001b[0m: list.append() takes exactly one argument (2 given)"
     ]
    }
   ],
   "source": [
    "l1.append('apple','banana')"
   ]
  },
  {
   "cell_type": "markdown",
   "id": "081d1330",
   "metadata": {},
   "source": [
    "**Always recall that if you see anywhere multiple values means most of the time we will keep those values in list only**"
   ]
  },
  {
   "cell_type": "code",
   "execution_count": 66,
   "id": "86c99111",
   "metadata": {},
   "outputs": [
    {
     "data": {
      "text/plain": [
       "[10, 20, 30, 'banana', ['apple', 'banana'], ['apple', 'banana']]"
      ]
     },
     "execution_count": 66,
     "metadata": {},
     "output_type": "execute_result"
    }
   ],
   "source": [
    "l1.append(['apple','banana'])\n",
    "l1"
   ]
  },
  {
   "cell_type": "markdown",
   "id": "ccb8050e",
   "metadata": {},
   "source": [
    "- Append method is used to store the outputs\n",
    "\n"
   ]
  },
  {
   "cell_type": "code",
   "execution_count": 67,
   "id": "4d2bb55e",
   "metadata": {},
   "outputs": [],
   "source": [
    "#for example:\n",
    "# i want append the numbers from 1 to 5\n",
    "\n",
    "#l=[]\n",
    "##########################Use for loop\n",
    "#l.append(1)\n",
    "#l.append(2)              l.append()is common and values are changing so i\n",
    "#l.append(3)\n",
    "#l.append(4)\n",
    "#l.append(5)\n",
    "###########################"
   ]
  },
  {
   "cell_type": "code",
   "execution_count": 71,
   "id": "158a025d",
   "metadata": {},
   "outputs": [
    {
     "name": "stdout",
     "output_type": "stream",
     "text": [
      "[0, 1, 2, 3, 4, 5]\n"
     ]
    }
   ],
   "source": [
    "l=[]\n",
    "for i in range(0,6):\n",
    "    l.append(i)\n",
    "print(l)"
   ]
  },
  {
   "cell_type": "code",
   "execution_count": 72,
   "id": "ecb9c305",
   "metadata": {},
   "outputs": [],
   "source": [
    "#WAP to ask the user to enter three raandom numbers\n",
    "#and perform the square of the nuumbers and save those numbers in the empty list "
   ]
  },
  {
   "cell_type": "code",
   "execution_count": 1,
   "id": "3aab19b9",
   "metadata": {},
   "outputs": [
    {
     "name": "stdout",
     "output_type": "stream",
     "text": [
      "9\n",
      "6\n",
      "7\n"
     ]
    }
   ],
   "source": [
    "import random \n",
    "\n",
    "for i in range(3):\n",
    "    num=random.randint(1,10)\n",
    "    print(num)"
   ]
  },
  {
   "cell_type": "code",
   "execution_count": 2,
   "id": "7368dda4",
   "metadata": {},
   "outputs": [
    {
     "name": "stdout",
     "output_type": "stream",
     "text": [
      "1\n",
      "16\n",
      "64\n",
      "[1, 16, 64]\n"
     ]
    }
   ],
   "source": [
    "import random \n",
    "l1=[]\n",
    "for i in range(3):\n",
    "    num=random.randint(1,10)\n",
    "    square=num*num\n",
    "    print(square)\n",
    "    l1.append(square)\n",
    "    \n",
    "print(l1)"
   ]
  },
  {
   "cell_type": "code",
   "execution_count": 3,
   "id": "3c52aa6d",
   "metadata": {},
   "outputs": [
    {
     "name": "stdout",
     "output_type": "stream",
     "text": [
      "3:9\n",
      "4:16\n",
      "2:4\n",
      "[9, 16, 4]\n"
     ]
    }
   ],
   "source": [
    "import random \n",
    "l1=[]\n",
    "for i in range(3):\n",
    "    num=random.randint(1,10)\n",
    "    square=num*num\n",
    "    print(f'{num}:{square}')\n",
    "    l1.append(square)\n",
    "    \n",
    "print(l1)"
   ]
  },
  {
   "cell_type": "code",
   "execution_count": 4,
   "id": "c5b5b27b",
   "metadata": {},
   "outputs": [],
   "source": [
    "# Q2) \n",
    "# I already have a list of numbers\n",
    "# l=[10,47,53,12,27]\n",
    "# from the above i want the even list and list\n",
    "# the list be like\n",
    "# m=[10,12]\n",
    "# k=[47,53,27]"
   ]
  },
  {
   "cell_type": "code",
   "execution_count": 9,
   "id": "ada44577",
   "metadata": {},
   "outputs": [
    {
     "name": "stdout",
     "output_type": "stream",
     "text": [
      "[10, 12]\n",
      "[47, 53, 27]\n"
     ]
    }
   ],
   "source": [
    "l1=[10,47,53,12,27]\n",
    "m=[]\n",
    "k=[]\n",
    "for i in l1:\n",
    "    if i%2==0:\n",
    "        m.append(i)\n",
    "    else:\n",
    "        k.append(i)\n",
    "        \n",
    "print(m)\n",
    "print(k)"
   ]
  },
  {
   "cell_type": "code",
   "execution_count": 12,
   "id": "c4264c8f",
   "metadata": {},
   "outputs": [
    {
     "name": "stdout",
     "output_type": "stream",
     "text": [
      "[10, 53, 27]\n",
      "[47, 12]\n"
     ]
    }
   ],
   "source": [
    "l1=[10,47,53,12,27]\n",
    "m=[]\n",
    "k=[]\n",
    "for i in range(len(l1)):\n",
    "    if i%2==0:\n",
    "        m.append(l1[i])\n",
    "    else:\n",
    "        k.append(l1[i])\n",
    "        \n",
    "print(m)\n",
    "print(k)"
   ]
  },
  {
   "cell_type": "code",
   "execution_count": 15,
   "id": "18176a9d",
   "metadata": {},
   "outputs": [],
   "source": [
    "# Q3) input=['hyd','bengaluru','mumbai','pune']\n",
    "#      output=['Hyd','Bengaluru','Mumbai','Pune']\n",
    "    \n",
    "# Q4) input=['hyd','bengalur','mumbai','pune']\n",
    "#      output=['HYD','BENGALUR','MUMBAI','PUNE']\n",
    "    \n",
    "# Q5) input=['hyd','ben#galur','mu#mbai','pune']\n",
    "#     output=['ben#galur','mu#mbai']\n",
    "    \n",
    "# Q6) input=['hyd','ben#galur','mu#mbai','pune']\n",
    "#     output=['hyd','pune']\n",
    "    \n",
    "# Q7) input='hai how are you'\n",
    "#     outpuut=['HAI','HOW','ARE','YOU']\n",
    "    \n",
    "# Q8) input='virat.kohli@rcb.com;rohith.sharma@mi.com;ms.dhoni@csk.com'\n",
    "#     fname=['virat','rohit','ms']|\n",
    "#     sname=['kohli','sharma','dhoni']\n",
    "#     cname=['rcb','mi','csk']\n",
    "    \n",
    "# Q9) input = 'can canner can you can not canner with you but you can the canner'\n",
    "#     output=['can'-4,'canner'-3, 'you'-3, 'not'-1, 'with'-1, 'but'-1, 'the'-1]\n",
    "    \n",
    "# Q10)input = 'can canner can you can not canner with you but you can the canner'\n",
    "#    stopwords=['you','not','but','with']\n",
    "#     remove the stopwords from input\n",
    "#     output='can canner can can canner can canner'\n",
    "    \n",
    "# Q11)take a string find the most repeated from the string\n",
    "\n",
    "# Q12)take a string find the longest length of the word from the string\n",
    "\n",
    "# Q13))take a string find the lowest length of the word from the string\n",
    "\n",
    "#Q14) now We have some questions list there\n",
    "#       and some answers list is there\n",
    "#       qns=['the pm of India','the capital of India','Indian ict mens captain']\n",
    "#       ans=['Modi','Delhi','Rohith']\n",
    "# when ever the correct answer marks+10\n",
    "#print the total"
   ]
  },
  {
   "cell_type": "code",
   "execution_count": 21,
   "id": "8fe3a872",
   "metadata": {},
   "outputs": [
    {
     "name": "stdout",
     "output_type": "stream",
     "text": [
      "['Hyd', 'Bengaluru', 'Mumbai', 'Pune']\n"
     ]
    }
   ],
   "source": [
    "# Q3) input=['hyd','bengaluru','mumbai','pune']\n",
    "#      output=['Hyd','Bengaluru','Mumbai','Pune']\n",
    "l1=['hyd','bengaluru','mumbai','pune']\n",
    "l3=[]\n",
    "for i in l1:\n",
    "    l2=i.title()\n",
    "    l3.append(l2)\n",
    "    \n",
    "    \n",
    "print(l3)"
   ]
  },
  {
   "cell_type": "code",
   "execution_count": 22,
   "id": "5b127f7e",
   "metadata": {},
   "outputs": [
    {
     "name": "stdout",
     "output_type": "stream",
     "text": [
      "['HYD', 'BENGALURU', 'MUMBAI', 'PUNE']\n"
     ]
    }
   ],
   "source": [
    "# Q4) input=['hyd','bengalur','mumbai','pune']\n",
    "#      output=['HYD','BENGALUR','MUMBAI','PUNE']\n",
    "l1=['hyd','bengaluru','mumbai','pune']\n",
    "l3=[]\n",
    "for i in l1:\n",
    "    l2=i.upper()\n",
    "    l3.append(l2)\n",
    "    \n",
    "    \n",
    "print(l3)"
   ]
  },
  {
   "cell_type": "code",
   "execution_count": 1,
   "id": "bc67423d",
   "metadata": {},
   "outputs": [
    {
     "name": "stdout",
     "output_type": "stream",
     "text": [
      "['ben#galur', 'mu#mbai']\n"
     ]
    }
   ],
   "source": [
    "# Q5) input=['hyd','ben#galur','mu#mbai','pune']\n",
    "#     output=['ben#galur','mu#mbai']\n",
    "l1=['hyd','ben#galur','mu#mbai','pune']\n",
    "l3=[]\n",
    "for i in l1:\n",
    "    if '#' in i:\n",
    "        l3.append(i)\n",
    "        \n",
    "print(l3)"
   ]
  },
  {
   "cell_type": "code",
   "execution_count": 2,
   "id": "00a6295c",
   "metadata": {},
   "outputs": [
    {
     "name": "stdout",
     "output_type": "stream",
     "text": [
      "['hyd', 'pune']\n"
     ]
    }
   ],
   "source": [
    "# Q5) input=['hyd','ben#galur','mu#mbai','pune']\n",
    "#     output=['ben#galur','mu#mbai']\n",
    "l1=['hyd','ben#galur','mu#mbai','pune']\n",
    "l3=[]\n",
    "for i in l1:\n",
    "    if '#' not in i:\n",
    "        l3.append(i)\n",
    "        \n",
    "print(l3)"
   ]
  },
  {
   "cell_type": "code",
   "execution_count": 7,
   "id": "22faf980",
   "metadata": {},
   "outputs": [
    {
     "data": {
      "text/plain": [
       "['HAI', 'HOW', 'ARE', 'YOU']"
      ]
     },
     "execution_count": 7,
     "metadata": {},
     "output_type": "execute_result"
    }
   ],
   "source": [
    "# Q7) input='hai how are you'\n",
    "#     outpuut=['HAI','HOW','ARE','YOU']\n",
    "input='hai how are you'\n",
    "l2=input.split()\n",
    "l3=[]\n",
    "for i in l2:\n",
    "    l3.append(i.upper())\n",
    "    \n",
    "l3"
   ]
  },
  {
   "cell_type": "code",
   "execution_count": 4,
   "id": "ad14b5cf",
   "metadata": {},
   "outputs": [
    {
     "data": {
      "text/plain": [
       "['hai', 'how', 'are', 'you']"
      ]
     },
     "execution_count": 4,
     "metadata": {},
     "output_type": "execute_result"
    }
   ],
   "source": [
    "l2\n"
   ]
  },
  {
   "cell_type": "code",
   "execution_count": 15,
   "id": "cac2d141",
   "metadata": {},
   "outputs": [
    {
     "data": {
      "text/plain": [
       "['virat.kohli@rcb.com', 'rohith.sharma@mi.com', 'ms.dhoni@csk.com']"
      ]
     },
     "execution_count": 15,
     "metadata": {},
     "output_type": "execute_result"
    }
   ],
   "source": [
    "# Q8) input='virat.kohli@rcb.com;rohith.sharma@mi.com;ms.dhoni@csk.com'\n",
    "#     fname=['virat','rohit','ms']|\n",
    "#     sname=['kohli','sharma','dhoni']\n",
    "#     cname=['rcb','mi','csk']\n",
    "l1='virat.kohli@rcb.com;rohith.sharma@mi.com;ms.dhoni@csk.com'\n",
    "# Split the emails by ';'\n",
    "l2= l1.split(';')\n",
    "l2"
   ]
  },
  {
   "cell_type": "code",
   "execution_count": 21,
   "id": "76d781f0",
   "metadata": {},
   "outputs": [],
   "source": [
    "s1=l2[0]"
   ]
  },
  {
   "cell_type": "code",
   "execution_count": 22,
   "id": "8fc5830e",
   "metadata": {},
   "outputs": [
    {
     "data": {
      "text/plain": [
       "'virat.kohli@rcb.com'"
      ]
     },
     "execution_count": 22,
     "metadata": {},
     "output_type": "execute_result"
    }
   ],
   "source": [
    "s1"
   ]
  },
  {
   "cell_type": "code",
   "execution_count": 23,
   "id": "b34cb550",
   "metadata": {},
   "outputs": [
    {
     "data": {
      "text/plain": [
       "5"
      ]
     },
     "execution_count": 23,
     "metadata": {},
     "output_type": "execute_result"
    }
   ],
   "source": [
    "s1.index('.')"
   ]
  },
  {
   "cell_type": "code",
   "execution_count": 24,
   "id": "fafaf1a3",
   "metadata": {},
   "outputs": [
    {
     "data": {
      "text/plain": [
       "'virat'"
      ]
     },
     "execution_count": 24,
     "metadata": {},
     "output_type": "execute_result"
    }
   ],
   "source": [
    "s1[:5]"
   ]
  },
  {
   "cell_type": "code",
   "execution_count": 26,
   "id": "7010f519",
   "metadata": {},
   "outputs": [
    {
     "data": {
      "text/plain": [
       "'virat'"
      ]
     },
     "execution_count": 26,
     "metadata": {},
     "output_type": "execute_result"
    }
   ],
   "source": [
    "l2[0][:l2[0].find('.')]"
   ]
  },
  {
   "cell_type": "code",
   "execution_count": 27,
   "id": "cbd7be6f",
   "metadata": {},
   "outputs": [
    {
     "data": {
      "text/plain": [
       "'rohith'"
      ]
     },
     "execution_count": 27,
     "metadata": {},
     "output_type": "execute_result"
    }
   ],
   "source": [
    "l2[1][:l2[1].find('.')]"
   ]
  },
  {
   "cell_type": "code",
   "execution_count": 28,
   "id": "a5f1d67c",
   "metadata": {},
   "outputs": [
    {
     "data": {
      "text/plain": [
       "'ms'"
      ]
     },
     "execution_count": 28,
     "metadata": {},
     "output_type": "execute_result"
    }
   ],
   "source": [
    "l2[2][:l2[2].find('.')]"
   ]
  },
  {
   "cell_type": "code",
   "execution_count": 32,
   "id": "1c431a19",
   "metadata": {},
   "outputs": [
    {
     "name": "stdout",
     "output_type": "stream",
     "text": [
      "['virat', 'rohith', 'ms']\n",
      "['kohli', 'sharma', 'dhoni']\n"
     ]
    },
    {
     "data": {
      "text/plain": [
       "['rcb', 'mi', 'csk']"
      ]
     },
     "execution_count": 32,
     "metadata": {},
     "output_type": "execute_result"
    }
   ],
   "source": [
    "l1='virat.kohli@rcb.com;rohith.sharma@mi.com;ms.dhoni@csk.com'\n",
    "# Split the emails by ';'\n",
    "l2= l1.split(';')\n",
    "fname=[]\n",
    "sname=[]\n",
    "cname=[]\n",
    "for i in l2:\n",
    "    id1=i.find('.')\n",
    "    id2=i.find('@')\n",
    "    id3=i.find('.',id1+1)\n",
    "    fname.append(i[:id1])\n",
    "    sname.append(i[id1+1:id2])\n",
    "    cname.append(i[id2+1:id3])\n",
    "    \n",
    "    \n",
    "print(fname)\n",
    "print(sname)\n",
    "cname"
   ]
  },
  {
   "cell_type": "code",
   "execution_count": 33,
   "id": "bef45ba7",
   "metadata": {},
   "outputs": [],
   "source": [
    "# Q9) input = 'can canner can you can not canner with you but you can the canner'\n",
    "#     output=['can'-4,'canner'-3, 'you'-3, 'not'-1, 'with'-1, 'but'-1, 'the'-1]"
   ]
  },
  {
   "cell_type": "code",
   "execution_count": 49,
   "id": "d6b14f90",
   "metadata": {},
   "outputs": [
    {
     "name": "stdout",
     "output_type": "stream",
     "text": [
      "[\"'can'-4\", \"'canner'-3\", \"'you'-3\", \"'not'-1\", \"'with'-1\", \"'but'-1\", \"'the'-1\"]\n"
     ]
    }
   ],
   "source": [
    "from collections import Counter\n",
    "\n",
    "input = \"can canner can you can not canner with you but you can the canner\"\n",
    "\n",
    "word_sp=input.split()# Split the string into words\n",
    "word_fr=Counter(word_sp) # Count occurrences of each word\n",
    "\n",
    "output=[f\"'{word}'-{count}\" for word, count in word_fr.items()]\n",
    "print(output)"
   ]
  },
  {
   "cell_type": "code",
   "execution_count": 40,
   "id": "07d8498e",
   "metadata": {},
   "outputs": [
    {
     "data": {
      "text/plain": [
       "['can:4', 'canner:3', 'you:3', 'not:1', 'with:1', 'but:1', 'the:1']"
      ]
     },
     "execution_count": 40,
     "metadata": {},
     "output_type": "execute_result"
    }
   ],
   "source": [
    "input = \"can canner can you can not canner with you but you can the canner\"\n",
    "\n",
    "l1=input.split()\n",
    "l2=[]\n",
    "counter=[]\n",
    "for i in l1:\n",
    "    if i not in l2:\n",
    "        counter.append(f\"{i}:{l1.count(i)}\")\n",
    "        l2.append(i)  #s=s+i\n",
    "        \n",
    "        \n",
    "counter"
   ]
  },
  {
   "cell_type": "markdown",
   "id": "97139b4e",
   "metadata": {},
   "source": [
    "# word frequency problem"
   ]
  },
  {
   "cell_type": "code",
   "execution_count": 46,
   "id": "3eac1111",
   "metadata": {},
   "outputs": [
    {
     "name": "stdout",
     "output_type": "stream",
     "text": [
      "can:4\n",
      "canner:3\n",
      "you:3\n",
      "not:1\n",
      "with:1\n",
      "but:1\n",
      "the:1\n"
     ]
    }
   ],
   "source": [
    "input = \"can canner can you can not canner with you but you can the canner\"\n",
    "\n",
    "l1=input.split()\n",
    "l2=[]\n",
    "counter=[]\n",
    "for i in l1:\n",
    "    if i not in l2:\n",
    "        print(f\"{i}:{l1.count(i)}\")\n",
    "        l2.append(i)#s=s+i\n",
    "        \n",
    "        \n"
   ]
  },
  {
   "cell_type": "code",
   "execution_count": 51,
   "id": "42b1bb8d",
   "metadata": {},
   "outputs": [],
   "source": [
    "# Q10)input = 'can canner can you can not canner with you but you can the canner'\n",
    "#    stopwords=['you','not','but','with']\n",
    "#     remove the stopwords from input\n",
    "#     output='can canner can can canner can canner'"
   ]
  },
  {
   "cell_type": "code",
   "execution_count": 53,
   "id": "c988aefd",
   "metadata": {},
   "outputs": [
    {
     "data": {
      "text/plain": [
       "['can',\n",
       " 'canner',\n",
       " 'can',\n",
       " 'you',\n",
       " 'can',\n",
       " 'not',\n",
       " 'canner',\n",
       " 'with',\n",
       " 'you',\n",
       " 'but',\n",
       " 'you',\n",
       " 'can',\n",
       " 'the',\n",
       " 'canner']"
      ]
     },
     "execution_count": 53,
     "metadata": {},
     "output_type": "execute_result"
    }
   ],
   "source": [
    "input = \"can canner can you can not canner with you but you can the canner\"\n",
    "l=input.split()\n",
    "l"
   ]
  },
  {
   "cell_type": "code",
   "execution_count": 57,
   "id": "c948caf0",
   "metadata": {},
   "outputs": [
    {
     "data": {
      "text/plain": [
       "'can canner can can canner can the canner'"
      ]
     },
     "execution_count": 57,
     "metadata": {},
     "output_type": "execute_result"
    }
   ],
   "source": [
    "input = \"can canner can you can not canner with you but you can the canner\"\n",
    "l=input.split()\n",
    "l1=[]\n",
    "stopwords=['you','not','but','with']\n",
    "for i in l:\n",
    "    if i not in stopwords:\n",
    "        l1.append(i)\n",
    "    \n",
    "' '.join(l1) "
   ]
  },
  {
   "cell_type": "markdown",
   "id": "419d0615",
   "metadata": {},
   "source": [
    "**Extend**"
   ]
  },
  {
   "cell_type": "code",
   "execution_count": 59,
   "id": "02f372cb",
   "metadata": {},
   "outputs": [
    {
     "data": {
      "text/plain": [
       "[1, 2, 3, 4, 5, 'A', 'B', 'c']"
      ]
     },
     "execution_count": 59,
     "metadata": {},
     "output_type": "execute_result"
    }
   ],
   "source": [
    "l1=[1,2,3,4,5]\n",
    "l2=['A','B','c']\n",
    "l1.extend(l2)\n",
    "l1"
   ]
  },
  {
   "cell_type": "code",
   "execution_count": 60,
   "id": "fe8250a0",
   "metadata": {},
   "outputs": [
    {
     "data": {
      "text/plain": [
       "['A', 'B', 'c', 1, 2, 3, 4, 5]"
      ]
     },
     "execution_count": 60,
     "metadata": {},
     "output_type": "execute_result"
    }
   ],
   "source": [
    "l1=[1,2,3,4,5]\n",
    "l2=['A','B','c']\n",
    "l2.extend(l1)\n",
    "l2"
   ]
  },
  {
   "cell_type": "code",
   "execution_count": 61,
   "id": "1196ab7a",
   "metadata": {},
   "outputs": [
    {
     "data": {
      "text/plain": [
       "['A', 'B', 'c', [1, 2, 3, 4, 5]]"
      ]
     },
     "execution_count": 61,
     "metadata": {},
     "output_type": "execute_result"
    }
   ],
   "source": [
    "l1=[1,2,3,4,5]\n",
    "l2=['A','B','c']\n",
    "l2.append(l1)\n",
    "l2"
   ]
  },
  {
   "cell_type": "code",
   "execution_count": 62,
   "id": "754ce638",
   "metadata": {},
   "outputs": [],
   "source": [
    "l1=[1,2,3,4,5]\n",
    "l2=['A','B','c']\n",
    "l3=l1+l2"
   ]
  },
  {
   "cell_type": "code",
   "execution_count": 63,
   "id": "f286918b",
   "metadata": {},
   "outputs": [
    {
     "data": {
      "text/plain": [
       "[1, 2, 3, 4, 5, 'A', 'B', 'c']"
      ]
     },
     "execution_count": 63,
     "metadata": {},
     "output_type": "execute_result"
    }
   ],
   "source": [
    "l3"
   ]
  },
  {
   "cell_type": "code",
   "execution_count": 1,
   "id": "5f4c3550",
   "metadata": {},
   "outputs": [
    {
     "name": "stdout",
     "output_type": "stream",
     "text": [
      "[1, 2, 3, 4, 5, 'A', 'B', 'c']\n",
      "[1, 2, 3, 4, 5]\n",
      "['A', 'B', 'c']\n",
      "l1 will be overwrite if we use extend\n",
      "[1, 2, 3, 4, 5, 'A', 'B', 'c']\n"
     ]
    }
   ],
   "source": [
    "l1=[1,2,3,4,5]\n",
    "l2=['A','B','c']\n",
    "print(l1+l2)\n",
    "print(l1)\n",
    "print(l2)\n",
    "print('l1 will be overwrite if we use extend')\n",
    "l1.extend(l2)\n",
    "print(l1)"
   ]
  },
  {
   "cell_type": "markdown",
   "id": "fc9094e8",
   "metadata": {},
   "source": [
    "**index**"
   ]
  },
  {
   "cell_type": "code",
   "execution_count": 2,
   "id": "867c5dae",
   "metadata": {},
   "outputs": [],
   "source": [
    "l1=[1,2,3,4,5]"
   ]
  },
  {
   "cell_type": "code",
   "execution_count": 3,
   "id": "9c117428",
   "metadata": {},
   "outputs": [
    {
     "data": {
      "text/plain": [
       "1"
      ]
     },
     "execution_count": 3,
     "metadata": {},
     "output_type": "execute_result"
    }
   ],
   "source": [
    "l1.index(2)"
   ]
  },
  {
   "cell_type": "markdown",
   "id": "3519069f",
   "metadata": {},
   "source": [
    "- in strings we have both index and find \n",
    "\n",
    "- but in list we have only index\n",
    "\n",
    "- same as strings concept"
   ]
  },
  {
   "cell_type": "code",
   "execution_count": 7,
   "id": "8cc046b2",
   "metadata": {},
   "outputs": [
    {
     "name": "stdout",
     "output_type": "stream",
     "text": [
      "5\n"
     ]
    }
   ],
   "source": [
    "l1=[10,20,30,40,50,40]\n",
    "id1=l1.index(40)\n",
    "print(l1.index(40,id1+1))"
   ]
  },
  {
   "cell_type": "markdown",
   "id": "a8cc490f",
   "metadata": {},
   "source": [
    "**Insert**"
   ]
  },
  {
   "cell_type": "markdown",
   "id": "9be32667",
   "metadata": {},
   "source": [
    "- difference between append and insert\n",
    "\n",
    "* "
   ]
  },
  {
   "cell_type": "code",
   "execution_count": 11,
   "id": "09f6b0f4",
   "metadata": {},
   "outputs": [],
   "source": [
    "l1=[10,20,30,'Apple','Bat',50,60]\n",
    "id=l1.index('Apple')\n",
    "l1.insert(id+1,100)"
   ]
  },
  {
   "cell_type": "code",
   "execution_count": 12,
   "id": "4a24de43",
   "metadata": {},
   "outputs": [
    {
     "data": {
      "text/plain": [
       "[10, 20, 30, 'Apple', 100, 'Bat', 50, 60]"
      ]
     },
     "execution_count": 12,
     "metadata": {},
     "output_type": "execute_result"
    }
   ],
   "source": [
    "l1"
   ]
  },
  {
   "cell_type": "code",
   "execution_count": 13,
   "id": "cf6be8c1",
   "metadata": {},
   "outputs": [],
   "source": [
    "l1.append(20)"
   ]
  },
  {
   "cell_type": "code",
   "execution_count": 14,
   "id": "a760ab7e",
   "metadata": {},
   "outputs": [
    {
     "data": {
      "text/plain": [
       "[10, 20, 30, 'Apple', 100, 'Bat', 50, 60, 20]"
      ]
     },
     "execution_count": 14,
     "metadata": {},
     "output_type": "execute_result"
    }
   ],
   "source": [
    "l1"
   ]
  },
  {
   "cell_type": "markdown",
   "id": "31158f9e",
   "metadata": {},
   "source": [
    "**pop vs Remove**"
   ]
  },
  {
   "cell_type": "markdown",
   "id": "44626a20",
   "metadata": {},
   "source": [
    "- if we want to delete any element\n",
    "\n",
    "- pop: based on index\n",
    "    \n",
    "- remove: based on value\n",
    "    \n",
    "- del is an inbuilt function"
   ]
  },
  {
   "cell_type": "code",
   "execution_count": 4,
   "id": "02c412d9",
   "metadata": {},
   "outputs": [
    {
     "data": {
      "text/plain": [
       "60"
      ]
     },
     "execution_count": 4,
     "metadata": {},
     "output_type": "execute_result"
    }
   ],
   "source": [
    "l1=[10,20,30,'Apple','Bat',50,60]\n",
    "l1.pop()"
   ]
  },
  {
   "cell_type": "code",
   "execution_count": 5,
   "id": "c6bf44da",
   "metadata": {},
   "outputs": [
    {
     "data": {
      "text/plain": [
       "[10, 20, 30, 'Apple', 'Bat', 50]"
      ]
     },
     "execution_count": 5,
     "metadata": {},
     "output_type": "execute_result"
    }
   ],
   "source": [
    "l1"
   ]
  },
  {
   "cell_type": "code",
   "execution_count": 6,
   "id": "b66409ab",
   "metadata": {},
   "outputs": [
    {
     "data": {
      "text/plain": [
       "'Apple'"
      ]
     },
     "execution_count": 6,
     "metadata": {},
     "output_type": "execute_result"
    }
   ],
   "source": [
    "l1=[10,20,30,'Apple','Bat',50,60]\n",
    "l1.pop(3)"
   ]
  },
  {
   "cell_type": "code",
   "execution_count": 7,
   "id": "8b6d2900",
   "metadata": {},
   "outputs": [
    {
     "data": {
      "text/plain": [
       "[10, 20, 30, 'Bat', 50, 60]"
      ]
     },
     "execution_count": 7,
     "metadata": {},
     "output_type": "execute_result"
    }
   ],
   "source": [
    "l1"
   ]
  },
  {
   "cell_type": "code",
   "execution_count": 16,
   "id": "cd134841",
   "metadata": {},
   "outputs": [],
   "source": [
    "l1=[10,20,30,'Apple','Bat',50,60]\n",
    "l1.remove('Apple')"
   ]
  },
  {
   "cell_type": "code",
   "execution_count": 17,
   "id": "02a95b28",
   "metadata": {},
   "outputs": [
    {
     "data": {
      "text/plain": [
       "[10, 20, 30, 'Bat', 50, 60]"
      ]
     },
     "execution_count": 17,
     "metadata": {},
     "output_type": "execute_result"
    }
   ],
   "source": [
    "l1"
   ]
  },
  {
   "cell_type": "code",
   "execution_count": 19,
   "id": "8560073f",
   "metadata": {},
   "outputs": [
    {
     "ename": "IndexError",
     "evalue": "list assignment index out of range",
     "output_type": "error",
     "traceback": [
      "\u001b[1;31m---------------------------------------------------------------------------\u001b[0m",
      "\u001b[1;31mIndexError\u001b[0m                                Traceback (most recent call last)",
      "\u001b[1;32m~\\AppData\\Local\\Temp\\ipykernel_1616\\2867839868.py\u001b[0m in \u001b[0;36m<module>\u001b[1;34m\u001b[0m\n\u001b[0;32m      1\u001b[0m \u001b[1;32mdel\u001b[0m\u001b[1;33m(\u001b[0m\u001b[0ml1\u001b[0m\u001b[1;33m[\u001b[0m\u001b[1;36m3\u001b[0m\u001b[1;33m]\u001b[0m\u001b[1;33m)\u001b[0m \u001b[1;31m#or\u001b[0m\u001b[1;33m\u001b[0m\u001b[1;33m\u001b[0m\u001b[0m\n\u001b[1;32m----> 2\u001b[1;33m \u001b[1;32mdel\u001b[0m \u001b[0ml1\u001b[0m\u001b[1;33m[\u001b[0m\u001b[1;36m4\u001b[0m\u001b[1;33m]\u001b[0m\u001b[1;33m\u001b[0m\u001b[1;33m\u001b[0m\u001b[0m\n\u001b[0m",
      "\u001b[1;31mIndexError\u001b[0m: list assignment index out of range"
     ]
    }
   ],
   "source": [
    "del(l1[3]) #or \n",
    "del l1[4]"
   ]
  },
  {
   "cell_type": "code",
   "execution_count": 12,
   "id": "2947969f",
   "metadata": {},
   "outputs": [
    {
     "data": {
      "text/plain": [
       "[10, 20, 30, 50, 60]"
      ]
     },
     "execution_count": 12,
     "metadata": {},
     "output_type": "execute_result"
    }
   ],
   "source": [
    "l1"
   ]
  },
  {
   "cell_type": "code",
   "execution_count": 13,
   "id": "0b5279fe",
   "metadata": {},
   "outputs": [],
   "source": [
    "del[l1]"
   ]
  },
  {
   "cell_type": "code",
   "execution_count": 14,
   "id": "2f1c4e7d",
   "metadata": {},
   "outputs": [
    {
     "ename": "NameError",
     "evalue": "name 'l1' is not defined",
     "output_type": "error",
     "traceback": [
      "\u001b[1;31m---------------------------------------------------------------------------\u001b[0m",
      "\u001b[1;31mNameError\u001b[0m                                 Traceback (most recent call last)",
      "\u001b[1;32m~\\AppData\\Local\\Temp\\ipykernel_1616\\2585568370.py\u001b[0m in \u001b[0;36m<module>\u001b[1;34m\u001b[0m\n\u001b[1;32m----> 1\u001b[1;33m \u001b[0ml1\u001b[0m\u001b[1;33m\u001b[0m\u001b[1;33m\u001b[0m\u001b[0m\n\u001b[0m",
      "\u001b[1;31mNameError\u001b[0m: name 'l1' is not defined"
     ]
    }
   ],
   "source": [
    "l1"
   ]
  },
  {
   "cell_type": "code",
   "execution_count": 20,
   "id": "c8832ab3",
   "metadata": {},
   "outputs": [],
   "source": [
    "l1=[10,20,30,'Apple','Bat',50,60]\n",
    "del l1[3]"
   ]
  },
  {
   "cell_type": "code",
   "execution_count": 21,
   "id": "a5e49db6",
   "metadata": {},
   "outputs": [
    {
     "data": {
      "text/plain": [
       "[10, 20, 30, 'Bat', 50, 60]"
      ]
     },
     "execution_count": 21,
     "metadata": {},
     "output_type": "execute_result"
    }
   ],
   "source": [
    "l1"
   ]
  },
  {
   "cell_type": "markdown",
   "id": "db495fd1",
   "metadata": {},
   "source": [
    "**Reverse - Reversed**"
   ]
  },
  {
   "cell_type": "markdown",
   "id": "06ed073d",
   "metadata": {},
   "source": [
    "* reverse is a method\n",
    "\n",
    "* reversed is a inbuilt function"
   ]
  },
  {
   "cell_type": "code",
   "execution_count": 22,
   "id": "8d96b897",
   "metadata": {},
   "outputs": [],
   "source": [
    "l1=[10,20,30,'Apple','Bat',50,60]\n",
    "l1.reverse()"
   ]
  },
  {
   "cell_type": "code",
   "execution_count": 23,
   "id": "12e78629",
   "metadata": {},
   "outputs": [
    {
     "data": {
      "text/plain": [
       "[60, 50, 'Bat', 'Apple', 30, 20, 10]"
      ]
     },
     "execution_count": 23,
     "metadata": {},
     "output_type": "execute_result"
    }
   ],
   "source": [
    "l1"
   ]
  },
  {
   "cell_type": "markdown",
   "id": "87484b32",
   "metadata": {},
   "source": [
    "**IN PLACE**"
   ]
  },
  {
   "cell_type": "markdown",
   "id": "2025dc4b",
   "metadata": {},
   "source": [
    "- When we perform the operations sometimes values will not overwrite\n",
    "\n",
    "- if we see the word **Inplace** or **Inplace=True**\n",
    "\n",
    "- this indicates the output will be overwrite in correspending variable"
   ]
  },
  {
   "cell_type": "code",
   "execution_count": 27,
   "id": "8de6de73",
   "metadata": {},
   "outputs": [],
   "source": [
    "# revesed\n",
    "l1=[10,20,30,'Apple','Bat',50,60]\n",
    "l2=reversed(l1)"
   ]
  },
  {
   "cell_type": "code",
   "execution_count": 33,
   "id": "3a0eb29c",
   "metadata": {},
   "outputs": [],
   "source": [
    "for i in l2:\n",
    "    print(i,end=\" \")"
   ]
  },
  {
   "cell_type": "code",
   "execution_count": 32,
   "id": "3a66a3dd",
   "metadata": {},
   "outputs": [
    {
     "data": {
      "text/plain": [
       "[60, 50, 'Bat', 'Apple', 30, 20, 10]"
      ]
     },
     "execution_count": 32,
     "metadata": {},
     "output_type": "execute_result"
    }
   ],
   "source": [
    "l2=reversed(l1)\n",
    "list(l2)"
   ]
  },
  {
   "cell_type": "markdown",
   "id": "c3b825c4",
   "metadata": {},
   "source": [
    "**Sort-Sorted**"
   ]
  },
  {
   "cell_type": "code",
   "execution_count": 35,
   "id": "d9d8728d",
   "metadata": {},
   "outputs": [],
   "source": [
    "l1=[10,20,30,50,60,5,15]\n",
    "l1.sort()"
   ]
  },
  {
   "cell_type": "code",
   "execution_count": 36,
   "id": "ccb2dd87",
   "metadata": {},
   "outputs": [
    {
     "data": {
      "text/plain": [
       "[5, 10, 15, 20, 30, 50, 60]"
      ]
     },
     "execution_count": 36,
     "metadata": {},
     "output_type": "execute_result"
    }
   ],
   "source": [
    "l1"
   ]
  },
  {
   "cell_type": "code",
   "execution_count": 38,
   "id": "6f5b0acf",
   "metadata": {},
   "outputs": [
    {
     "data": {
      "text/plain": [
       "[5, 10, 15, 20, 30, 50, 60]"
      ]
     },
     "execution_count": 38,
     "metadata": {},
     "output_type": "execute_result"
    }
   ],
   "source": [
    "l1=[10,20,30,50,60,5,15]\n",
    "sorted(l1)"
   ]
  },
  {
   "cell_type": "code",
   "execution_count": 39,
   "id": "1c82100d",
   "metadata": {},
   "outputs": [
    {
     "data": {
      "text/plain": [
       "['h', 'n', 'o', 'p', 't', 'y']"
      ]
     },
     "execution_count": 39,
     "metadata": {},
     "output_type": "execute_result"
    }
   ],
   "source": [
    "str1='python'\n",
    "sorted(str1)"
   ]
  },
  {
   "cell_type": "code",
   "execution_count": 40,
   "id": "9b9defef",
   "metadata": {},
   "outputs": [
    {
     "ename": "AttributeError",
     "evalue": "'str' object has no attribute 'sort'",
     "output_type": "error",
     "traceback": [
      "\u001b[1;31m---------------------------------------------------------------------------\u001b[0m",
      "\u001b[1;31mAttributeError\u001b[0m                            Traceback (most recent call last)",
      "\u001b[1;32m~\\AppData\\Local\\Temp\\ipykernel_1616\\3618886459.py\u001b[0m in \u001b[0;36m<module>\u001b[1;34m\u001b[0m\n\u001b[1;32m----> 1\u001b[1;33m \u001b[0mstr1\u001b[0m\u001b[1;33m.\u001b[0m\u001b[0msort\u001b[0m\u001b[1;33m(\u001b[0m\u001b[1;33m)\u001b[0m\u001b[1;33m\u001b[0m\u001b[1;33m\u001b[0m\u001b[0m\n\u001b[0m",
      "\u001b[1;31mAttributeError\u001b[0m: 'str' object has no attribute 'sort'"
     ]
    }
   ],
   "source": [
    "str1.sort()   #it is not avilable"
   ]
  },
  {
   "cell_type": "markdown",
   "id": "a239b647",
   "metadata": {},
   "source": [
    "* inbuilt functions applicable for any datatype\n",
    "\n",
    "* But method works for datatypes only"
   ]
  },
  {
   "cell_type": "markdown",
   "id": "8fb670b0",
   "metadata": {},
   "source": [
    "- clear \n",
    "\n",
    "- count\n",
    "\n",
    "- append/extend/insert\n",
    "\n",
    "- pop/remove/del\n",
    "\n",
    "- index\n",
    "\n",
    "- reverse/reversed\n",
    "\n",
    "- sort/sorted"
   ]
  },
  {
   "cell_type": "code",
   "execution_count": 47,
   "id": "c100ec4b",
   "metadata": {},
   "outputs": [],
   "source": [
    "# Q11)take a string find the most repeated from the string\n",
    "\n",
    "# Q12)take a string find the longest length of the word from the string\n",
    "\n",
    "# Q13))take a string find the lowest length of the word from the string"
   ]
  },
  {
   "cell_type": "code",
   "execution_count": 53,
   "id": "ca2c1737",
   "metadata": {},
   "outputs": [
    {
     "data": {
      "text/plain": [
       "'canner'"
      ]
     },
     "execution_count": 53,
     "metadata": {},
     "output_type": "execute_result"
    }
   ],
   "source": [
    "input = \"can canner can you can not canner with you but you can the canner\"\n",
    "l1=input.split()\n",
    "l2=l1[0]\n",
    "for i in l1:\n",
    "    if len(i)>len(l2):\n",
    "        l2=i\n",
    "l2  "
   ]
  },
  {
   "cell_type": "code",
   "execution_count": 56,
   "id": "c59ef567",
   "metadata": {},
   "outputs": [
    {
     "data": {
      "text/plain": [
       "'can'"
      ]
     },
     "execution_count": 56,
     "metadata": {},
     "output_type": "execute_result"
    }
   ],
   "source": [
    "# Q13))take a string find the lowest length of the word from the string\n",
    "input = \"can canner can you can not canner with you but you can the canner\"\n",
    "l1=input.split()\n",
    "l2=l1[0]\n",
    "for i in l1:\n",
    "    if len(i)<len(l2):\n",
    "        l2=i\n",
    "l2  "
   ]
  },
  {
   "cell_type": "code",
   "execution_count": 2,
   "id": "cdf34e48",
   "metadata": {},
   "outputs": [],
   "source": [
    "l1=[10,20,30,40,50]\n",
    "for i in l1:\n",
    "    l1.remove(i)"
   ]
  },
  {
   "cell_type": "code",
   "execution_count": 3,
   "id": "d384bda4",
   "metadata": {},
   "outputs": [
    {
     "data": {
      "text/plain": [
       "[20, 40]"
      ]
     },
     "execution_count": 3,
     "metadata": {},
     "output_type": "execute_result"
    }
   ],
   "source": [
    "l1"
   ]
  },
  {
   "cell_type": "code",
   "execution_count": null,
   "id": "5953bc5d",
   "metadata": {},
   "outputs": [],
   "source": []
  }
 ],
 "metadata": {
  "kernelspec": {
   "display_name": "Python 3 (ipykernel)",
   "language": "python",
   "name": "python3"
  },
  "language_info": {
   "codemirror_mode": {
    "name": "ipython",
    "version": 3
   },
   "file_extension": ".py",
   "mimetype": "text/x-python",
   "name": "python",
   "nbconvert_exporter": "python",
   "pygments_lexer": "ipython3",
   "version": "3.9.13"
  }
 },
 "nbformat": 4,
 "nbformat_minor": 5
}
